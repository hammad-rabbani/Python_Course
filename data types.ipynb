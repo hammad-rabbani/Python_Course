{
 "cells": [
  {
   "cell_type": "markdown",
   "id": "c1f6408b-8a3e-4543-a712-1dedcefc594e",
   "metadata": {
    "jp-MarkdownHeadingCollapsed": true
   },
   "source": [
    "### Integer data type"
   ]
  },
  {
   "cell_type": "code",
   "execution_count": 1,
   "id": "8e7f7f3e-9c5c-4858-a17b-115c4512bee1",
   "metadata": {},
   "outputs": [
    {
     "name": "stdout",
     "output_type": "stream",
     "text": [
      "10\n"
     ]
    }
   ],
   "source": [
    "i = 10\n",
    "print(i)"
   ]
  },
  {
   "cell_type": "code",
   "execution_count": 2,
   "id": "ae3d2423-6d25-45b8-bbbb-3f073ed9b39b",
   "metadata": {},
   "outputs": [
    {
     "name": "stdout",
     "output_type": "stream",
     "text": [
      "<class 'int'>\n"
     ]
    }
   ],
   "source": [
    "print(type(i))"
   ]
  },
  {
   "cell_type": "markdown",
   "id": "e11838d9-b3f9-485b-81d5-70b84e75bfd1",
   "metadata": {
    "jp-MarkdownHeadingCollapsed": true
   },
   "source": [
    "### Float data type"
   ]
  },
  {
   "cell_type": "code",
   "execution_count": 13,
   "id": "8fa0cb93-9013-47af-b5a7-6431e75f1ca5",
   "metadata": {},
   "outputs": [
    {
     "name": "stdout",
     "output_type": "stream",
     "text": [
      "2.1\n"
     ]
    }
   ],
   "source": [
    "f = 2.10\n",
    "print(f)"
   ]
  },
  {
   "cell_type": "code",
   "execution_count": 15,
   "id": "6b217803-4d44-4124-891d-62ee1555969f",
   "metadata": {},
   "outputs": [
    {
     "name": "stdout",
     "output_type": "stream",
     "text": [
      "<class 'float'>\n"
     ]
    }
   ],
   "source": [
    "print(type(f))"
   ]
  },
  {
   "cell_type": "code",
   "execution_count": 17,
   "id": "1cf8aa05-6138-4608-bbc1-50996de1aab8",
   "metadata": {},
   "outputs": [
    {
     "name": "stdout",
     "output_type": "stream",
     "text": [
      "1200.0\n",
      "1200.0\n"
     ]
    }
   ],
   "source": [
    "f1 = 1.2E3    #1.2*E**3\n",
    "print(f1)\n",
    "\n",
    "\n",
    "print(1.2*10**3)"
   ]
  },
  {
   "cell_type": "markdown",
   "id": "ba19423c-acf1-4eae-a245-2dfdee056791",
   "metadata": {
    "jp-MarkdownHeadingCollapsed": true
   },
   "source": [
    "### String data type"
   ]
  },
  {
   "cell_type": "code",
   "execution_count": 13,
   "id": "d3836c70-ed27-46ff-80f8-3711c23d8fb7",
   "metadata": {},
   "outputs": [
    {
     "name": "stdout",
     "output_type": "stream",
     "text": [
      "27\n",
      "my name is hammad\n"
     ]
    }
   ],
   "source": [
    "s = \"27\"\n",
    "print(s)\n",
    "\n",
    "s1=\"hammad\"\n",
    "print(\"my name is\", s1)"
   ]
  },
  {
   "cell_type": "code",
   "execution_count": 8,
   "id": "778ed683-8f68-47ca-af8e-21c90bdbf3f7",
   "metadata": {},
   "outputs": [
    {
     "name": "stdout",
     "output_type": "stream",
     "text": [
      "<class 'str'>\n"
     ]
    }
   ],
   "source": [
    "print(type(s1))"
   ]
  },
  {
   "cell_type": "markdown",
   "id": "a2466131-73b0-4aa3-adcd-f2e8c940b8ef",
   "metadata": {
    "jp-MarkdownHeadingCollapsed": true
   },
   "source": [
    "### Bool data type"
   ]
  },
  {
   "cell_type": "code",
   "execution_count": 28,
   "id": "e6f6159e-3af4-4dd6-a50a-837b927a0eb7",
   "metadata": {},
   "outputs": [
    {
     "name": "stdout",
     "output_type": "stream",
     "text": [
      "False\n",
      "type is equal to <class 'bool'>\n"
     ]
    }
   ],
   "source": [
    "b=False\n",
    "print(b)\n",
    "print(\"type is equal to\",type(b))"
   ]
  },
  {
   "cell_type": "code",
   "execution_count": 21,
   "id": "8fc6260e-b3a7-420b-a2ae-3b0e8def6cf4",
   "metadata": {},
   "outputs": [
    {
     "name": "stdout",
     "output_type": "stream",
     "text": [
      "0\n"
     ]
    }
   ],
   "source": [
    "print(int(b))"
   ]
  },
  {
   "cell_type": "code",
   "execution_count": 27,
   "id": "e9c75e0d-2a7e-4de1-adbe-76c56d0a038a",
   "metadata": {},
   "outputs": [
    {
     "name": "stdout",
     "output_type": "stream",
     "text": [
      "True\n",
      "type is equal to <class 'bool'>\n"
     ]
    }
   ],
   "source": [
    "b1=True\n",
    "print(b1)\n",
    "print(\"type is equal to\",type(b1))"
   ]
  },
  {
   "cell_type": "code",
   "execution_count": 24,
   "id": "2a5a152b-1748-4b61-9747-94a2219961e7",
   "metadata": {},
   "outputs": [
    {
     "name": "stdout",
     "output_type": "stream",
     "text": [
      "1.0\n"
     ]
    }
   ],
   "source": [
    "print(float(b1))"
   ]
  },
  {
   "cell_type": "code",
   "execution_count": 29,
   "id": "9cea126b-71a9-48dd-a4fa-44b71412140c",
   "metadata": {},
   "outputs": [
    {
     "name": "stdout",
     "output_type": "stream",
     "text": [
      "1\n"
     ]
    }
   ],
   "source": [
    "print(int(b1))"
   ]
  },
  {
   "cell_type": "code",
   "execution_count": 48,
   "id": "aade9e8b-8c02-4d87-b0a4-3698d23f5d56",
   "metadata": {},
   "outputs": [
    {
     "name": "stdout",
     "output_type": "stream",
     "text": [
      "0\n",
      "False\n"
     ]
    }
   ],
   "source": [
    "n=2%2\n",
    "print(n)\n",
    "print(bool(n))"
   ]
  },
  {
   "cell_type": "code",
   "execution_count": 46,
   "id": "61be07b0-adc9-4c0d-ada7-d351eaeef966",
   "metadata": {},
   "outputs": [
    {
     "name": "stdout",
     "output_type": "stream",
     "text": [
      "1\n",
      "True\n"
     ]
    }
   ],
   "source": [
    "n=2//2\n",
    "print(n)\n",
    "print(bool(n))"
   ]
  },
  {
   "cell_type": "code",
   "execution_count": 31,
   "id": "961b9517-1d93-4e58-9994-84948468edcc",
   "metadata": {},
   "outputs": [
    {
     "name": "stdout",
     "output_type": "stream",
     "text": [
      "False\n",
      "True\n",
      "3\n",
      "0\n"
     ]
    }
   ],
   "source": [
    "a=10\n",
    "b=20\n",
    "c=30\n",
    "print(a>b)\n",
    "print(a<b)\n",
    "print(c//a)\n",
    "x = (a>b)\n",
    "print(int(x))"
   ]
  },
  {
   "cell_type": "markdown",
   "id": "544eb7a3-b45c-4dcb-99aa-49a9781323fd",
   "metadata": {
    "jp-MarkdownHeadingCollapsed": true
   },
   "source": [
    "### Range data type"
   ]
  },
  {
   "cell_type": "code",
   "execution_count": 3,
   "id": "a9f35538-76cd-4bfa-99f7-37d34c4bc095",
   "metadata": {},
   "outputs": [
    {
     "name": "stdout",
     "output_type": "stream",
     "text": [
      "range(1, 4)\n"
     ]
    }
   ],
   "source": [
    "r=range(1,4)\n",
    "print(r)"
   ]
  },
  {
   "cell_type": "code",
   "execution_count": 4,
   "id": "bf5aec1b-8c06-40c1-90c5-a8ad24c3fb70",
   "metadata": {},
   "outputs": [
    {
     "name": "stdout",
     "output_type": "stream",
     "text": [
      "1\n",
      "2\n",
      "3\n"
     ]
    }
   ],
   "source": [
    "for x in r:\n",
    "    print(x)"
   ]
  },
  {
   "cell_type": "markdown",
   "id": "4c1fa36b-8060-4c91-92bc-e14c795cdb62",
   "metadata": {
    "jp-MarkdownHeadingCollapsed": true
   },
   "source": [
    "### Complex data type"
   ]
  },
  {
   "cell_type": "code",
   "execution_count": 28,
   "id": "b4ecbb85-92a5-4ee5-b2af-2bc3ad92b7b1",
   "metadata": {},
   "outputs": [
    {
     "name": "stdout",
     "output_type": "stream",
     "text": [
      "(10+2j)\n",
      "<class 'complex'>\n"
     ]
    }
   ],
   "source": [
    "c = 10+2j\n",
    "print(c)\n",
    "print(type(c))"
   ]
  },
  {
   "cell_type": "code",
   "execution_count": 33,
   "id": "62fea949-dd9d-41aa-827b-ff4320a34c88",
   "metadata": {},
   "outputs": [
    {
     "data": {
      "text/plain": [
       "False"
      ]
     },
     "execution_count": 33,
     "metadata": {},
     "output_type": "execute_result"
    }
   ],
   "source": [
    "bool(0+0j)"
   ]
  },
  {
   "cell_type": "code",
   "execution_count": 34,
   "id": "42955fdc-5c39-4218-a36a-239a7c2680a9",
   "metadata": {},
   "outputs": [
    {
     "data": {
      "text/plain": [
       "True"
      ]
     },
     "execution_count": 34,
     "metadata": {},
     "output_type": "execute_result"
    }
   ],
   "source": [
    "bool(10+2j)"
   ]
  },
  {
   "cell_type": "code",
   "execution_count": 48,
   "id": "b7713f47-7ee3-45be-b37f-5dba92f7aa2c",
   "metadata": {},
   "outputs": [
    {
     "name": "stdout",
     "output_type": "stream",
     "text": [
      "(10+0j)\n",
      "(10.5+0j)\n",
      "(10+5j)\n"
     ]
    }
   ],
   "source": [
    "print(complex(10))\n",
    "print(complex(10.5))\n",
    "print(complex(10,5))"
   ]
  },
  {
   "cell_type": "markdown",
   "id": "01b11f96-6012-48df-9bd1-98c94a7236e7",
   "metadata": {
    "jp-MarkdownHeadingCollapsed": true
   },
   "source": [
    "### Slicing of String"
   ]
  },
  {
   "cell_type": "code",
   "execution_count": 20,
   "id": "7f6da159-41bd-407b-a6ca-90055b40efc5",
   "metadata": {},
   "outputs": [
    {
     "name": "stdout",
     "output_type": "stream",
     "text": [
      "a\n",
      "i\n",
      "hammad\n",
      "mad\n"
     ]
    }
   ],
   "source": [
    "p=\"hammadrabbani\"\n",
    "print(p[4])\n",
    "print(p[-1])\n",
    "print(p[0:6])\n",
    "print(p[3:6:1])            # if we use positive step then end endex = n-1"
   ]
  },
  {
   "cell_type": "code",
   "execution_count": 11,
   "id": "3a210659-a4ec-45c1-8979-52a800f75ba1",
   "metadata": {},
   "outputs": [
    {
     "name": "stdout",
     "output_type": "stream",
     "text": [
      "hammad_rabbani\n",
      "_dammah\n"
     ]
    }
   ],
   "source": [
    "x=\"hammad_rabbani\"\n",
    "print(x)\n",
    "\n",
    "print(x[-8::-1])"
   ]
  },
  {
   "cell_type": "code",
   "execution_count": 22,
   "id": "f7249db3-ab16-4468-8b09-4c12c70e5cd0",
   "metadata": {},
   "outputs": [
    {
     "data": {
      "text/plain": [
       "'f'"
      ]
     },
     "execution_count": 22,
     "metadata": {},
     "output_type": "execute_result"
    }
   ],
   "source": [
    "\n",
    "\"nafees\"[2:-3:1]    #-3+1=-2  if we use negative step then end index will be n+1\n"
   ]
  },
  {
   "cell_type": "code",
   "execution_count": 60,
   "id": "e2ae371b-0645-46c0-af48-f451e45d5c10",
   "metadata": {},
   "outputs": [
    {
     "data": {
      "text/plain": [
       "'fees'"
      ]
     },
     "execution_count": 60,
     "metadata": {},
     "output_type": "execute_result"
    }
   ],
   "source": [
    "s=\"nafees\"\n",
    "s[-1:-5:-1][-1::-1]\n"
   ]
  },
  {
   "cell_type": "code",
   "execution_count": 18,
   "id": "ada81aef-04b0-4561-a4d4-4b06eb1e33b7",
   "metadata": {},
   "outputs": [
    {
     "data": {
      "text/plain": [
       "'nafees'"
      ]
     },
     "execution_count": 18,
     "metadata": {},
     "output_type": "execute_result"
    }
   ],
   "source": [
    "s=\"nafees\"\n",
    "s[-4::]\n",
    "s[::]"
   ]
  },
  {
   "cell_type": "code",
   "execution_count": 32,
   "id": "297c0350-1a32-4184-a5f1-273db3f2d241",
   "metadata": {},
   "outputs": [
    {
     "data": {
      "text/plain": [
       "'m'"
      ]
     },
     "execution_count": 32,
     "metadata": {},
     "output_type": "execute_result"
    }
   ],
   "source": [
    "\"hammad\"[-3:1:-2]"
   ]
  },
  {
   "cell_type": "markdown",
   "id": "cd201d29-4290-4d85-a73e-95d927388a4b",
   "metadata": {
    "jp-MarkdownHeadingCollapsed": true
   },
   "source": [
    "### List Data Type:"
   ]
  },
  {
   "cell_type": "code",
   "execution_count": 68,
   "id": "e8cb1542-7d5d-48a2-9908-e366d7e4bb3e",
   "metadata": {},
   "outputs": [
    {
     "name": "stdout",
     "output_type": "stream",
     "text": [
      "[]\n"
     ]
    }
   ],
   "source": [
    "a = []     # empty list\n",
    "print(a)"
   ]
  },
  {
   "cell_type": "code",
   "execution_count": 86,
   "id": "ea6a60dd-64d4-4581-9993-b639b994c3d7",
   "metadata": {},
   "outputs": [
    {
     "name": "stdout",
     "output_type": "stream",
     "text": [
      "<class 'list'>\n"
     ]
    }
   ],
   "source": [
    "a1 = [10]\n",
    "print(type(a1))"
   ]
  },
  {
   "cell_type": "code",
   "execution_count": 93,
   "id": "1850dda9-6eb3-47ae-9041-9524860fc492",
   "metadata": {},
   "outputs": [
    {
     "name": "stdout",
     "output_type": "stream",
     "text": [
      "[10, 20, 30, 'hammad', 10.5, True, 10]\n"
     ]
    }
   ],
   "source": [
    "L = [10,20,30,\"hammad\",10.5,True,10]\n",
    "print(L)"
   ]
  },
  {
   "cell_type": "code",
   "execution_count": 94,
   "id": "1d3abbb9-f755-426f-bad9-16fb15d30417",
   "metadata": {},
   "outputs": [],
   "source": [
    "list1 = [10,20,30,\"hammad\",10.5,True,10]"
   ]
  },
  {
   "cell_type": "code",
   "execution_count": 107,
   "id": "3523e98b-54e8-4c7a-ab82-ac95d34f0260",
   "metadata": {},
   "outputs": [
    {
     "name": "stdout",
     "output_type": "stream",
     "text": [
      "10\n",
      "hammad\n",
      "m\n",
      "10\n"
     ]
    }
   ],
   "source": [
    "print(list1[0])\n",
    "print(list1[3])\n",
    "print(list1[3][2])\n",
    "\n",
    "print(list1[-1])"
   ]
  },
  {
   "cell_type": "code",
   "execution_count": 120,
   "id": "1336deb3-4017-46d6-969e-3ae298d9673c",
   "metadata": {},
   "outputs": [
    {
     "name": "stdout",
     "output_type": "stream",
     "text": [
      "10\n",
      "20\n",
      "30\n",
      "50\n"
     ]
    }
   ],
   "source": [
    "list1 = [10,20,30,50]\n",
    "\n",
    "for x in list1:\n",
    "    print(x)"
   ]
  },
  {
   "cell_type": "code",
   "execution_count": 10,
   "id": "facb2ec9-5d90-41d0-a700-2259ca66172b",
   "metadata": {},
   "outputs": [
    {
     "name": "stdout",
     "output_type": "stream",
     "text": [
      "mushfiq\n"
     ]
    }
   ],
   "source": [
    "x = [\"hammad\",[\"mushfiq\",\"sheesh\"],\"nafees\"] # x has been taken as a list which is carrying different strings\n",
    "print(x[1][0])"
   ]
  },
  {
   "cell_type": "code",
   "execution_count": 17,
   "id": "f6fb782a-508b-45d6-9d88-a79de1f74872",
   "metadata": {},
   "outputs": [
    {
     "data": {
      "text/plain": [
       "[10, 20]"
      ]
     },
     "execution_count": 17,
     "metadata": {},
     "output_type": "execute_result"
    }
   ],
   "source": [
    "l=[2,4,6,8,10,12,14,16,18,20]\n",
    "l[4::5]"
   ]
  },
  {
   "cell_type": "code",
   "execution_count": 62,
   "id": "7494b27b-6357-47c7-91fa-e73ec6c03842",
   "metadata": {},
   "outputs": [
    {
     "name": "stdout",
     "output_type": "stream",
     "text": [
      "[10, 20, 30, 1]\n"
     ]
    },
    {
     "data": {
      "text/plain": [
       "[10, 20, 1]"
      ]
     },
     "execution_count": 62,
     "metadata": {},
     "output_type": "execute_result"
    }
   ],
   "source": [
    "n = [10,20,30]\n",
    "n.append(1)\n",
    "print(n)\n",
    "n.remove(30)\n",
    "n"
   ]
  },
  {
   "cell_type": "code",
   "execution_count": 63,
   "id": "4b04862c-0133-4240-b821-9a65bb238954",
   "metadata": {},
   "outputs": [
    {
     "name": "stdout",
     "output_type": "stream",
     "text": [
      "31\n"
     ]
    }
   ],
   "source": [
    "print(sum(n))"
   ]
  },
  {
   "cell_type": "code",
   "execution_count": null,
   "id": "e826cdf2-f53d-467d-bbd4-d9a4baf0cf6f",
   "metadata": {},
   "outputs": [],
   "source": [
    "n=n*0\n",
    "print(n)"
   ]
  },
  {
   "cell_type": "code",
   "execution_count": 5,
   "id": "9ed9ae99-4331-4633-b410-36059cacef85",
   "metadata": {},
   "outputs": [
    {
     "name": "stdout",
     "output_type": "stream",
     "text": [
      "['nafees', 58.7, 17]\n",
      "nafees\n",
      "23\n",
      "97.3\n",
      "True\n",
      "['nafees', 58.7, 17, 'nafees', 23, 97.3, True]\n"
     ]
    }
   ],
   "source": [
    "import time\n",
    "num = []\n",
    "\n",
    "num.append(\"nafees\")\n",
    "num.append(58.7)\n",
    "num.append(8+9)\n",
    "print(num)\n",
    "num1=[\"nafees\",23,97.3,True]\n",
    "for h in num1:\n",
    "    print(h)\n",
    "    num.append(h)\n",
    "print(num)"
   ]
  },
  {
   "cell_type": "code",
   "execution_count": 33,
   "id": "f0d8b78c-6c69-43b2-971b-f33617b9305d",
   "metadata": {},
   "outputs": [
    {
     "data": {
      "text/plain": [
       "55"
      ]
     },
     "execution_count": 33,
     "metadata": {},
     "output_type": "execute_result"
    }
   ],
   "source": [
    "x=[10,9,8,7,6,5,4,3,2,1]\n",
    "sum(x)\n"
   ]
  },
  {
   "cell_type": "code",
   "execution_count": 34,
   "id": "4d8b294f-c33c-46c2-ae49-0815bdab430d",
   "metadata": {},
   "outputs": [
    {
     "data": {
      "text/plain": [
       "10"
      ]
     },
     "execution_count": 34,
     "metadata": {},
     "output_type": "execute_result"
    }
   ],
   "source": [
    "len(x)"
   ]
  },
  {
   "cell_type": "code",
   "execution_count": 35,
   "id": "9dd09333-dd69-424d-9948-13863a013963",
   "metadata": {},
   "outputs": [
    {
     "data": {
      "text/plain": [
       "1"
      ]
     },
     "execution_count": 35,
     "metadata": {},
     "output_type": "execute_result"
    }
   ],
   "source": [
    "min(x)"
   ]
  },
  {
   "cell_type": "code",
   "execution_count": 36,
   "id": "aa556ff9-789e-474a-b784-24ae6e0d2748",
   "metadata": {},
   "outputs": [
    {
     "data": {
      "text/plain": [
       "10"
      ]
     },
     "execution_count": 36,
     "metadata": {},
     "output_type": "execute_result"
    }
   ],
   "source": [
    "max(x)"
   ]
  },
  {
   "cell_type": "code",
   "execution_count": 37,
   "id": "f4b81c8b-4730-47aa-9106-dfeee39fb941",
   "metadata": {},
   "outputs": [
    {
     "data": {
      "text/plain": [
       "5"
      ]
     },
     "execution_count": 37,
     "metadata": {},
     "output_type": "execute_result"
    }
   ],
   "source": [
    "sum(x)%len(x)"
   ]
  },
  {
   "cell_type": "markdown",
   "id": "bcabec8c-dd4a-4bb3-a600-701e5b2c9c14",
   "metadata": {
    "jp-MarkdownHeadingCollapsed": true
   },
   "source": [
    "### Tuple Data Type"
   ]
  },
  {
   "cell_type": "code",
   "execution_count": 46,
   "id": "cf01c805-0b09-4886-a02d-ec993b89002a",
   "metadata": {},
   "outputs": [],
   "source": [
    "t = (10,30,20,10,)"
   ]
  },
  {
   "cell_type": "code",
   "execution_count": 47,
   "id": "77c935eb-d615-4f60-a12d-e5a5371eb5f0",
   "metadata": {},
   "outputs": [
    {
     "data": {
      "text/plain": [
       "tuple"
      ]
     },
     "execution_count": 47,
     "metadata": {},
     "output_type": "execute_result"
    }
   ],
   "source": [
    "type(t)"
   ]
  },
  {
   "cell_type": "code",
   "execution_count": 48,
   "id": "bf260d2b-da3d-478d-b036-11a495300fde",
   "metadata": {},
   "outputs": [
    {
     "data": {
      "text/plain": [
       "70"
      ]
     },
     "execution_count": 48,
     "metadata": {},
     "output_type": "execute_result"
    }
   ],
   "source": [
    "sum(t)"
   ]
  },
  {
   "cell_type": "code",
   "execution_count": 45,
   "id": "37e994d9-0ba4-41b3-a67b-8e7b4d65bdaf",
   "metadata": {},
   "outputs": [
    {
     "data": {
      "text/plain": [
       "'hammad'"
      ]
     },
     "execution_count": 45,
     "metadata": {},
     "output_type": "execute_result"
    }
   ],
   "source": [
    "\"ham\"+\"mad\""
   ]
  },
  {
   "cell_type": "code",
   "execution_count": null,
   "id": "1bd86250-1c1e-494d-b603-69094a15ce55",
   "metadata": {},
   "outputs": [],
   "source": []
  },
  {
   "cell_type": "markdown",
   "id": "0d734d53-f68c-464e-b427-31f139c9bf22",
   "metadata": {
    "jp-MarkdownHeadingCollapsed": true
   },
   "source": [
    "### Set Data Type"
   ]
  },
  {
   "cell_type": "code",
   "execution_count": 75,
   "id": "85a4334f-9f45-4952-9a6f-6db470354c67",
   "metadata": {},
   "outputs": [
    {
     "data": {
      "text/plain": [
       "set"
      ]
     },
     "execution_count": 75,
     "metadata": {},
     "output_type": "execute_result"
    }
   ],
   "source": [
    "x={\"hamm\",45,5,765.6}\n",
    "type(x)"
   ]
  },
  {
   "cell_type": "code",
   "execution_count": 76,
   "id": "edd199e6-e642-4a59-bde1-376e6b2c0aff",
   "metadata": {},
   "outputs": [
    {
     "name": "stdout",
     "output_type": "stream",
     "text": [
      "{True, 3, 'ahm', 'rabbani', 'nafees', 'hammad', 12.5}\n"
     ]
    }
   ],
   "source": [
    "s={\"hammad\",\"rabbani\",\"nafees\",\"ahm\", 3,3 ,True ,12.5} #indexing not allowed because the data rotates \n",
    "print(s)"
   ]
  },
  {
   "cell_type": "code",
   "execution_count": 85,
   "id": "10920244-e828-4040-a448-45b1f991aab5",
   "metadata": {},
   "outputs": [
    {
     "data": {
      "text/plain": [
       "{3}"
      ]
     },
     "execution_count": 85,
     "metadata": {},
     "output_type": "execute_result"
    }
   ],
   "source": [
    "x={3,3,3,3,3,3,3} #duplicates are not allowed\n",
    "x"
   ]
  },
  {
   "cell_type": "code",
   "execution_count": 86,
   "id": "5cba4848-5f72-4591-a032-7b4f4c1c1261",
   "metadata": {},
   "outputs": [
    {
     "data": {
      "text/plain": [
       "{3, 5}"
      ]
     },
     "execution_count": 86,
     "metadata": {},
     "output_type": "execute_result"
    }
   ],
   "source": [
    "x.add(5)\n",
    "x"
   ]
  },
  {
   "cell_type": "code",
   "execution_count": 90,
   "id": "da6c1f2b-7686-47fd-bbee-54b10a431919",
   "metadata": {},
   "outputs": [
    {
     "data": {
      "text/plain": [
       "set()"
      ]
     },
     "execution_count": 90,
     "metadata": {},
     "output_type": "execute_result"
    }
   ],
   "source": [
    "x.remove(3)\n",
    "x"
   ]
  },
  {
   "cell_type": "code",
   "execution_count": 91,
   "id": "652e1c0f-e9c4-4f9b-ab46-de1c8c6301e0",
   "metadata": {},
   "outputs": [
    {
     "name": "stdout",
     "output_type": "stream",
     "text": [
      "set()\n"
     ]
    }
   ],
   "source": [
    "print(x)"
   ]
  },
  {
   "cell_type": "code",
   "execution_count": 96,
   "id": "cadecff4-ed66-4a71-aae8-748ec85841d0",
   "metadata": {},
   "outputs": [],
   "source": [
    "w={\"hammmad\",3,5.5,True}\n",
    "del w # it will show error bcs data is del in w\n",
    "w\n",
    "\n"
   ]
  },
  {
   "cell_type": "markdown",
   "id": "a749c675-b379-4590-9034-fed7648c13dc",
   "metadata": {
    "jp-MarkdownHeadingCollapsed": true
   },
   "source": [
    "### FrozenSet Data Type"
   ]
  },
  {
   "cell_type": "code",
   "execution_count": 109,
   "id": "b29d7ba0-5b48-490e-a184-d5b46159740d",
   "metadata": {},
   "outputs": [
    {
     "name": "stdout",
     "output_type": "stream",
     "text": [
      "frozenset({'h', 'j'})\n",
      "<class 'frozenset'>\n"
     ]
    }
   ],
   "source": [
    "f=frozenset(['h','j','h','j'])\n",
    "print(f)\n",
    "print(type(f))"
   ]
  },
  {
   "cell_type": "code",
   "execution_count": null,
   "id": "d0e94096-eded-41fa-8a82-09ee77c4ccbe",
   "metadata": {},
   "outputs": [],
   "source": []
  },
  {
   "cell_type": "markdown",
   "id": "3778e024-7f52-4b6e-a51f-e4826e91de63",
   "metadata": {
    "jp-MarkdownHeadingCollapsed": true
   },
   "source": [
    "### Dictionary Data Type"
   ]
  },
  {
   "cell_type": "code",
   "execution_count": 1,
   "id": "751d005f-9ee8-406a-9886-285138c95d70",
   "metadata": {},
   "outputs": [
    {
     "name": "stdout",
     "output_type": "stream",
     "text": [
      "dict_keys([12, 2, 't'])\n",
      "dict_values([True, 'naffy', 'toss'])\n",
      "{12: 'nafees', 2: 'naffy', 't': 'toss'}\n"
     ]
    }
   ],
   "source": [
    "h={12:True,2:\"naffy\",\"t\":\"toss\"}\n",
    "print(h.keys())\n",
    "print(h.values())\n",
    "h[12] = \"nafees\"\n",
    "print(h)\n"
   ]
  },
  {
   "cell_type": "code",
   "execution_count": 8,
   "id": "9b1007be-caac-43cc-b4ce-7924102e34f7",
   "metadata": {},
   "outputs": [
    {
     "name": "stdout",
     "output_type": "stream",
     "text": [
      "{1: 'hammad'}\n",
      "{1: 'hammad', 2: 10.2}\n",
      "{1: 'hammad', 2: 10.2, 3: 2}\n",
      "{1: 'hammad', 2: 10.2, 3: 2, 4: True}\n"
     ]
    }
   ],
   "source": [
    "d = {}    # add heterogenious data in dictionary and print all data present in d vriable, also delete all data presnnt in d variable at the end\n",
    "\n",
    "d[1]=\"hammad\"\n",
    "print(d)\n",
    "d[2]=10.2\n",
    "print(d)\n",
    "d[3]=2\n",
    "print(d)\n",
    "d[4]=True\n",
    "print(d)\n",
    "del (d)\n",
    "\n",
    "\n",
    "\n",
    "\n"
   ]
  },
  {
   "cell_type": "code",
   "execution_count": 22,
   "id": "ab398996-cb2d-419f-ace8-bb2bbe842f23",
   "metadata": {},
   "outputs": [
    {
     "name": "stdout",
     "output_type": "stream",
     "text": [
      "{1: 'hammad', 2: 'nafees', 3: 'nabeel', 4: 'sufiyan', 5: 'Abbad', 6: 'sheesh'}\n"
     ]
    }
   ],
   "source": [
    "x={1:\"hammad\",2:\"nafees\",3:\"nabeel\",4:\"sufiyan\",5:\"Abbad\",6:\"sheesh\"}\n",
    "print(x)"
   ]
  },
  {
   "cell_type": "code",
   "execution_count": null,
   "id": "d0f89af8-2f28-4d75-956b-6b617cd87fab",
   "metadata": {},
   "outputs": [],
   "source": []
  },
  {
   "cell_type": "markdown",
   "id": "18670c1c-c353-4205-9487-2d608457e557",
   "metadata": {
    "jp-MarkdownHeadingCollapsed": true
   },
   "source": [
    "### None Data Type"
   ]
  },
  {
   "cell_type": "code",
   "execution_count": 5,
   "id": "b35855d3-2caf-4c98-b638-28e5cf459434",
   "metadata": {},
   "outputs": [
    {
     "name": "stdout",
     "output_type": "stream",
     "text": [
      "None\n"
     ]
    }
   ],
   "source": [
    "n = None\n",
    "print(n)"
   ]
  },
  {
   "cell_type": "code",
   "execution_count": 6,
   "id": "811e8f45-e5eb-48d0-93cc-80634b4bfe47",
   "metadata": {},
   "outputs": [
    {
     "data": {
      "text/plain": [
       "NoneType"
      ]
     },
     "execution_count": 6,
     "metadata": {},
     "output_type": "execute_result"
    }
   ],
   "source": [
    "type(n)"
   ]
  },
  {
   "cell_type": "code",
   "execution_count": 25,
   "id": "45fece64-e376-4a5c-8a36-5823eafdd809",
   "metadata": {},
   "outputs": [
    {
     "name": "stdout",
     "output_type": "stream",
     "text": [
      "<class 'tuple'>\n"
     ]
    }
   ],
   "source": [
    "print(type(hammad1()))"
   ]
  },
  {
   "cell_type": "code",
   "execution_count": 30,
   "id": "ea5f1ce4-27a0-490c-a5f3-82045e6cee8e",
   "metadata": {},
   "outputs": [
    {
     "name": "stdout",
     "output_type": "stream",
     "text": [
      "None\n"
     ]
    }
   ],
   "source": [
    "def m1():\n",
    "    a=10\n",
    "    b=20\n",
    "\n",
    "print(m1())"
   ]
  },
  {
   "cell_type": "markdown",
   "id": "3bfca87f-dec2-490b-b1dd-c97719125eb9",
   "metadata": {
    "jp-MarkdownHeadingCollapsed": true
   },
   "source": [
    "### Escape Characters:"
   ]
  },
  {
   "cell_type": "code",
   "execution_count": 34,
   "id": "6abab221-4c65-430d-9bb4-d642b233ac71",
   "metadata": {},
   "outputs": [
    {
     "name": "stdout",
     "output_type": "stream",
     "text": [
      "hammad\n",
      "rabbani\n"
     ]
    }
   ],
   "source": [
    "x=\"hammad\\nrabbani\"\n",
    "print(x)"
   ]
  },
  {
   "cell_type": "code",
   "execution_count": 39,
   "id": "3980c6c7-433d-415e-a37d-079319968d00",
   "metadata": {},
   "outputs": [
    {
     "name": "stdout",
     "output_type": "stream",
     "text": [
      "hammad\trabbani\n"
     ]
    }
   ],
   "source": [
    "x=\"hammad\\trabbani\"\n",
    "print(x)"
   ]
  },
  {
   "cell_type": "code",
   "execution_count": 40,
   "id": "1b6ece8c-12f7-443f-a487-826c8bf44ccb",
   "metadata": {},
   "outputs": [
    {
     "name": "stdout",
     "output_type": "stream",
     "text": [
      "rabbani\n"
     ]
    }
   ],
   "source": [
    "x=\"hammad\\rrabbani\"\n",
    "print(x)"
   ]
  },
  {
   "cell_type": "code",
   "execution_count": 49,
   "id": "80794cca-64aa-4631-89e8-2fee586bed94",
   "metadata": {},
   "outputs": [
    {
     "name": "stdout",
     "output_type": "stream",
     "text": [
      "hammad rabbani\n"
     ]
    }
   ],
   "source": [
    "x=\"hammad   \\b\\brabbani\"\n",
    "print(x)"
   ]
  },
  {
   "cell_type": "code",
   "execution_count": 54,
   "id": "f56b1a23-49ce-4ad1-95f8-4f334c474abc",
   "metadata": {},
   "outputs": [
    {
     "name": "stdout",
     "output_type": "stream",
     "text": [
      "hammad\f",
      "rabbani\n"
     ]
    }
   ],
   "source": [
    "x=\"hammad\\frabbani\"\n",
    "print(x)"
   ]
  },
  {
   "cell_type": "code",
   "execution_count": 51,
   "id": "7b642b62-16c2-4e37-ba6a-f8b8a0dc7b77",
   "metadata": {},
   "outputs": [
    {
     "name": "stdout",
     "output_type": "stream",
     "text": [
      "hammad\u000b",
      "rabbani\n"
     ]
    }
   ],
   "source": [
    "x=\"hammad\\vrabbani\"\n",
    "print(x)"
   ]
  },
  {
   "cell_type": "code",
   "execution_count": 62,
   "id": "ea1b6323-878f-4901-a4ff-0c942b4eacb1",
   "metadata": {},
   "outputs": [
    {
     "name": "stdout",
     "output_type": "stream",
     "text": [
      "hammad'rabbani\n"
     ]
    }
   ],
   "source": [
    "x=\"hammad\\'rabbani\"\n",
    "print(x)"
   ]
  },
  {
   "cell_type": "code",
   "execution_count": 63,
   "id": "3fa626dc-3ebf-4af4-af86-6c81289794f7",
   "metadata": {},
   "outputs": [
    {
     "name": "stdout",
     "output_type": "stream",
     "text": [
      "hammad\"rabbani\n"
     ]
    }
   ],
   "source": [
    "x=\"hammad\\\"rabbani\"\n",
    "print(x)"
   ]
  },
  {
   "cell_type": "code",
   "execution_count": 70,
   "id": "f513e94f-5d2f-48a0-828d-588302616082",
   "metadata": {},
   "outputs": [
    {
     "name": "stdout",
     "output_type": "stream",
     "text": [
      "hammad\\rabbani\n"
     ]
    }
   ],
   "source": [
    "x=\"hammad\\\\rabbani\"\n",
    "print(x)"
   ]
  },
  {
   "cell_type": "code",
   "execution_count": null,
   "id": "91579eea-dce5-4c4c-8f91-264bc1ea977f",
   "metadata": {},
   "outputs": [],
   "source": []
  }
 ],
 "metadata": {
  "kernelspec": {
   "display_name": "Python [conda env:base] *",
   "language": "python",
   "name": "conda-base-py"
  },
  "language_info": {
   "codemirror_mode": {
    "name": "ipython",
    "version": 3
   },
   "file_extension": ".py",
   "mimetype": "text/x-python",
   "name": "python",
   "nbconvert_exporter": "python",
   "pygments_lexer": "ipython3",
   "version": "3.12.7"
  }
 },
 "nbformat": 4,
 "nbformat_minor": 5
}
