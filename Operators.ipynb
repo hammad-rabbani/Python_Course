{
 "cells": [
  {
   "cell_type": "markdown",
   "id": "fee7463e-b651-4e40-b3c0-584c04f32af8",
   "metadata": {
    "jp-MarkdownHeadingCollapsed": true
   },
   "source": [
    "## Python Operators"
   ]
  },
  {
   "cell_type": "raw",
   "id": "551f00df-f236-48b6-8e44-046c1e32b624",
   "metadata": {
    "scrolled": true
   },
   "source": [
    "\"\"\" Operators in Python are special symbols that perform operations on variables and values.\n",
    "1. Arithmetic Operator\n",
    "2. Relational Operator\n",
    "3. Equality Operator\n",
    "4. Logical Operator\n",
    "5. Bitwise Operator\n",
    "6. Assignment Operator\n",
    "7. Ternary/Conditional Operator\n",
    "8. Identity Operator\n",
    "9. Membership Operator \"\"\"\n"
   ]
  },
  {
   "cell_type": "markdown",
   "id": "a6fbacfe-82e2-4d7f-9ad7-a90c53f506ba",
   "metadata": {
    "jp-MarkdownHeadingCollapsed": true
   },
   "source": [
    "## 1. Arithmetic Operators"
   ]
  },
  {
   "cell_type": "raw",
   "id": "dc95f36f-f1a3-4fdb-8b38-b1a64018ea99",
   "metadata": {},
   "source": [
    "\"\"\"\n",
    "i) + addition\n",
    "ii) - Subtraction\n",
    "iii) * multiplication\n",
    "iv) % Modulus (Remainder)\n",
    "v) / Division (quotient in float)\n",
    "vi) // Floor division (quotient in whole number)\n",
    "vii) ** Exponentiation\n",
    "\"\"\""
   ]
  },
  {
   "cell_type": "markdown",
   "id": "15a34d63-0552-46bd-a56c-75001991ad2a",
   "metadata": {
    "jp-MarkdownHeadingCollapsed": true
   },
   "source": [
    "### i) Addition\n"
   ]
  },
  {
   "cell_type": "code",
   "execution_count": 4,
   "id": "50137d9c-d67d-4354-8315-dc39e4280288",
   "metadata": {},
   "outputs": [
    {
     "data": {
      "text/plain": [
       "'hammad'"
      ]
     },
     "execution_count": 4,
     "metadata": {},
     "output_type": "execute_result"
    }
   ],
   "source": [
    "\"ham\"+\"mad\""
   ]
  },
  {
   "cell_type": "code",
   "execution_count": 5,
   "id": "35d40ce4-3b56-4730-bc60-2e7116b08018",
   "metadata": {},
   "outputs": [
    {
     "data": {
      "text/plain": [
       "17"
      ]
     },
     "execution_count": 5,
     "metadata": {},
     "output_type": "execute_result"
    }
   ],
   "source": [
    "x=5+6+4+2\n",
    "x"
   ]
  },
  {
   "cell_type": "code",
   "execution_count": 42,
   "id": "adcb5f01-0976-405b-94bc-8134c3242afc",
   "metadata": {},
   "outputs": [
    {
     "data": {
      "text/plain": [
       "1"
      ]
     },
     "execution_count": 42,
     "metadata": {},
     "output_type": "execute_result"
    }
   ],
   "source": [
    "x=0+True\n",
    "x"
   ]
  },
  {
   "cell_type": "code",
   "execution_count": 13,
   "id": "4d40085b-c6f2-4527-9ede-8c5d7a28b144",
   "metadata": {},
   "outputs": [
    {
     "name": "stdout",
     "output_type": "stream",
     "text": [
      "1020\n"
     ]
    },
    {
     "data": {
      "text/plain": [
       "str"
      ]
     },
     "execution_count": 13,
     "metadata": {},
     "output_type": "execute_result"
    }
   ],
   "source": [
    "x=\"10\"+\"20\"\n",
    "print(x)\n",
    "type(x)\n"
   ]
  },
  {
   "cell_type": "markdown",
   "id": "4db9e25c-cab4-4731-b1fa-f539f7402bd5",
   "metadata": {
    "jp-MarkdownHeadingCollapsed": true
   },
   "source": [
    "### ii) Subtraction\n"
   ]
  },
  {
   "cell_type": "code",
   "execution_count": null,
   "id": "7b786991-caf9-4b60-8641-e7869140def5",
   "metadata": {},
   "outputs": [],
   "source": []
  },
  {
   "cell_type": "code",
   "execution_count": 12,
   "id": "d4ef0330-076a-4be1-8329-418c6baf9766",
   "metadata": {},
   "outputs": [
    {
     "data": {
      "text/plain": [
       "543"
      ]
     },
     "execution_count": 12,
     "metadata": {},
     "output_type": "execute_result"
    }
   ],
   "source": [
    "x=654-87-24\n",
    "x"
   ]
  },
  {
   "cell_type": "markdown",
   "id": "da0f7bad-e7b4-4d16-90ac-ff79f6c0c2e4",
   "metadata": {
    "jp-MarkdownHeadingCollapsed": true
   },
   "source": [
    "### iii) Multiplication\n"
   ]
  },
  {
   "cell_type": "code",
   "execution_count": 3,
   "id": "0aa23795-62f3-4842-a3e1-ebb6878fd4b8",
   "metadata": {
    "scrolled": true
   },
   "outputs": [
    {
     "data": {
      "text/plain": [
       "238"
      ]
     },
     "execution_count": 3,
     "metadata": {},
     "output_type": "execute_result"
    }
   ],
   "source": [
    "x=34*7\n",
    "x"
   ]
  },
  {
   "cell_type": "code",
   "execution_count": 16,
   "id": "8b181e12-f063-47c3-9568-85eb74873f21",
   "metadata": {},
   "outputs": [
    {
     "data": {
      "text/plain": [
       "'hammadhammad'"
      ]
     },
     "execution_count": 16,
     "metadata": {},
     "output_type": "execute_result"
    }
   ],
   "source": [
    "x=\"hammad\"*2\n",
    "x"
   ]
  },
  {
   "cell_type": "markdown",
   "id": "8e15d4c5-e36d-4259-83ef-0158764c582c",
   "metadata": {
    "jp-MarkdownHeadingCollapsed": true
   },
   "source": [
    "### iv) Modulus\n",
    "\n",
    "\n"
   ]
  },
  {
   "cell_type": "code",
   "execution_count": 5,
   "id": "3a06354d-4d6a-4e1f-ae79-0c5b190f8f79",
   "metadata": {},
   "outputs": [
    {
     "data": {
      "text/plain": [
       "0"
      ]
     },
     "execution_count": 5,
     "metadata": {},
     "output_type": "execute_result"
    }
   ],
   "source": [
    "x=5%5\n",
    "x"
   ]
  },
  {
   "cell_type": "code",
   "execution_count": 19,
   "id": "afb4d0b7-0e46-490a-93ed-8369bee40d86",
   "metadata": {},
   "outputs": [
    {
     "data": {
      "text/plain": [
       "3"
      ]
     },
     "execution_count": 19,
     "metadata": {},
     "output_type": "execute_result"
    }
   ],
   "source": [
    "34543%4"
   ]
  },
  {
   "cell_type": "markdown",
   "id": "82f028dc-7a2a-45be-a961-2ade2e7cc8c3",
   "metadata": {
    "jp-MarkdownHeadingCollapsed": true
   },
   "source": [
    "### v) Division\n"
   ]
  },
  {
   "cell_type": "code",
   "execution_count": 24,
   "id": "51e21d5e-76f7-4c46-a4c1-55291cd21bf4",
   "metadata": {},
   "outputs": [
    {
     "data": {
      "text/plain": [
       "125.0"
      ]
     },
     "execution_count": 24,
     "metadata": {},
     "output_type": "execute_result"
    }
   ],
   "source": [
    "x=625/5\n",
    "x"
   ]
  },
  {
   "cell_type": "code",
   "execution_count": 2,
   "id": "7178eac8-361f-4d90-9ac5-543fb9d8cbdb",
   "metadata": {},
   "outputs": [
    {
     "data": {
      "text/plain": [
       "5.0"
      ]
     },
     "execution_count": 2,
     "metadata": {},
     "output_type": "execute_result"
    }
   ],
   "source": [
    "x=25/5\n",
    "x"
   ]
  },
  {
   "cell_type": "markdown",
   "id": "0a2b21c8-d039-424f-90d1-1ff048d82b23",
   "metadata": {
    "jp-MarkdownHeadingCollapsed": true
   },
   "source": [
    "### vi) Floor division\n"
   ]
  },
  {
   "cell_type": "code",
   "execution_count": 6,
   "id": "6c921d83-236d-41a8-a545-590a314a777d",
   "metadata": {},
   "outputs": [
    {
     "data": {
      "text/plain": [
       "1028"
      ]
     },
     "execution_count": 6,
     "metadata": {},
     "output_type": "execute_result"
    }
   ],
   "source": [
    "x=12345//12\n",
    "x"
   ]
  },
  {
   "cell_type": "code",
   "execution_count": 28,
   "id": "42a232f1-5f0c-401c-bc34-1144c26b1d64",
   "metadata": {},
   "outputs": [
    {
     "data": {
      "text/plain": [
       "49"
      ]
     },
     "execution_count": 28,
     "metadata": {},
     "output_type": "execute_result"
    }
   ],
   "source": [
    "x=98//2\n",
    "x"
   ]
  },
  {
   "cell_type": "markdown",
   "id": "b17f9249-afbb-49c4-9c79-51b5a712abf7",
   "metadata": {
    "jp-MarkdownHeadingCollapsed": true
   },
   "source": [
    "### vii) Exponentiation\n"
   ]
  },
  {
   "cell_type": "code",
   "execution_count": 7,
   "id": "275f4230-ec53-44ca-95a2-383afeb8bb86",
   "metadata": {},
   "outputs": [
    {
     "data": {
      "text/plain": [
       "3125"
      ]
     },
     "execution_count": 7,
     "metadata": {},
     "output_type": "execute_result"
    }
   ],
   "source": [
    "x=5**5\n",
    "x"
   ]
  },
  {
   "cell_type": "code",
   "execution_count": 8,
   "id": "4f9d24d9-2827-4356-b7d5-0360d59b2b5c",
   "metadata": {},
   "outputs": [
    {
     "data": {
      "text/plain": [
       "64"
      ]
     },
     "execution_count": 8,
     "metadata": {},
     "output_type": "execute_result"
    }
   ],
   "source": [
    "x=2**6\n",
    "x"
   ]
  },
  {
   "cell_type": "code",
   "execution_count": null,
   "id": "ba230977-6135-4555-9b79-34bef218c62f",
   "metadata": {},
   "outputs": [],
   "source": []
  },
  {
   "cell_type": "markdown",
   "id": "1ced8e69-b76e-47e0-abc8-4ef68eced18d",
   "metadata": {
    "jp-MarkdownHeadingCollapsed": true
   },
   "source": [
    "## 2. Relational operators"
   ]
  },
  {
   "cell_type": "raw",
   "id": "f65fa9e8-4e87-412b-93ce-5cb934d97302",
   "metadata": {},
   "source": [
    "i)   > Greater Than\n",
    "ii)  >= Greater Than Equals To \n",
    "iii) < Less Than\n",
    "iv)  <= Less Than Equals To"
   ]
  },
  {
   "cell_type": "markdown",
   "id": "40b78e3b-e61b-4ee5-a6a2-e385278c613e",
   "metadata": {},
   "source": [
    "### i) Greater Than (>)"
   ]
  },
  {
   "cell_type": "code",
   "execution_count": 27,
   "id": "72571994-0e86-4285-9beb-9400b11926dd",
   "metadata": {},
   "outputs": [
    {
     "name": "stdout",
     "output_type": "stream",
     "text": [
      "False\n",
      "0\n"
     ]
    }
   ],
   "source": [
    "x=20\n",
    "y=100\n",
    "z=(x>y)\n",
    "print(z)\n",
    "print(int(z))\n"
   ]
  },
  {
   "cell_type": "code",
   "execution_count": 28,
   "id": "7c9aa888-dd2c-4d9b-a11c-71d570ae780a",
   "metadata": {},
   "outputs": [
    {
     "data": {
      "text/plain": [
       "True"
      ]
     },
     "execution_count": 28,
     "metadata": {},
     "output_type": "execute_result"
    }
   ],
   "source": [
    "100>20"
   ]
  },
  {
   "cell_type": "code",
   "execution_count": 29,
   "id": "a631fa8d-dc2d-4019-9fbd-0c70a34b688b",
   "metadata": {},
   "outputs": [
    {
     "data": {
      "text/plain": [
       "False"
      ]
     },
     "execution_count": 29,
     "metadata": {},
     "output_type": "execute_result"
    }
   ],
   "source": [
    "100>100"
   ]
  },
  {
   "cell_type": "markdown",
   "id": "abbfc69f-3886-4c8d-a984-9936f170233c",
   "metadata": {
    "jp-MarkdownHeadingCollapsed": true
   },
   "source": [
    "### ii) Greater Than Equals To"
   ]
  },
  {
   "cell_type": "code",
   "execution_count": 34,
   "id": "8d08dd31-2333-480b-8484-3d83a2f78414",
   "metadata": {},
   "outputs": [
    {
     "data": {
      "text/plain": [
       "True"
      ]
     },
     "execution_count": 34,
     "metadata": {},
     "output_type": "execute_result"
    }
   ],
   "source": [
    "100>=100"
   ]
  },
  {
   "cell_type": "code",
   "execution_count": 79,
   "id": "fff5ea2f-a3d4-4e90-875f-4d1d7668c7ab",
   "metadata": {},
   "outputs": [
    {
     "data": {
      "text/plain": [
       "True"
      ]
     },
     "execution_count": 79,
     "metadata": {},
     "output_type": "execute_result"
    }
   ],
   "source": [
    "\"hammad\">=\"hammad\"\n",
    "\n"
   ]
  },
  {
   "cell_type": "code",
   "execution_count": 82,
   "id": "5ce5bc8f-08bb-46b4-9223-bc6e1ccaed4c",
   "metadata": {},
   "outputs": [
    {
     "data": {
      "text/plain": [
       "True"
      ]
     },
     "execution_count": 82,
     "metadata": {},
     "output_type": "execute_result"
    }
   ],
   "source": [
    "\"20\">=\"20\""
   ]
  },
  {
   "cell_type": "markdown",
   "id": "15773c28-035d-43d0-b455-19fe4a66f392",
   "metadata": {
    "jp-MarkdownHeadingCollapsed": true
   },
   "source": [
    "### iii) Less Than (<)"
   ]
  },
  {
   "cell_type": "code",
   "execution_count": 83,
   "id": "9c875ee5-7456-4c7a-8bf8-53ac3b4abce8",
   "metadata": {},
   "outputs": [
    {
     "data": {
      "text/plain": [
       "True"
      ]
     },
     "execution_count": 83,
     "metadata": {},
     "output_type": "execute_result"
    }
   ],
   "source": [
    "23<43"
   ]
  },
  {
   "cell_type": "code",
   "execution_count": 85,
   "id": "daef3326-b5cd-4d74-8a83-95c2ba381753",
   "metadata": {},
   "outputs": [
    {
     "data": {
      "text/plain": [
       "True"
      ]
     },
     "execution_count": 85,
     "metadata": {},
     "output_type": "execute_result"
    }
   ],
   "source": [
    "\"hammad\"<\"zammad\""
   ]
  },
  {
   "cell_type": "code",
   "execution_count": 86,
   "id": "28ce73c2-03f6-4cde-a02e-4de6d6a1fce2",
   "metadata": {},
   "outputs": [
    {
     "data": {
      "text/plain": [
       "False"
      ]
     },
     "execution_count": 86,
     "metadata": {},
     "output_type": "execute_result"
    }
   ],
   "source": [
    "20<20"
   ]
  },
  {
   "cell_type": "markdown",
   "id": "62c9953a-418f-4684-b128-2c1d1ae03b28",
   "metadata": {
    "jp-MarkdownHeadingCollapsed": true
   },
   "source": [
    "### iv) Less Than Equals To"
   ]
  },
  {
   "cell_type": "code",
   "execution_count": 87,
   "id": "b200275a-41d6-486d-9d98-47e3a44bbe71",
   "metadata": {},
   "outputs": [
    {
     "data": {
      "text/plain": [
       "True"
      ]
     },
     "execution_count": 87,
     "metadata": {},
     "output_type": "execute_result"
    }
   ],
   "source": [
    "23<=54"
   ]
  },
  {
   "cell_type": "code",
   "execution_count": 88,
   "id": "20666682-8db0-4c99-bfb6-727a77c881f1",
   "metadata": {},
   "outputs": [
    {
     "data": {
      "text/plain": [
       "True"
      ]
     },
     "execution_count": 88,
     "metadata": {},
     "output_type": "execute_result"
    }
   ],
   "source": [
    "\"hammad\"<=\"hammad\""
   ]
  },
  {
   "cell_type": "code",
   "execution_count": 89,
   "id": "7f6039cf-07ed-4756-a0a9-f2c29bc2f502",
   "metadata": {},
   "outputs": [
    {
     "data": {
      "text/plain": [
       "True"
      ]
     },
     "execution_count": 89,
     "metadata": {},
     "output_type": "execute_result"
    }
   ],
   "source": [
    "\"hammad\"<=\"zebra\""
   ]
  },
  {
   "cell_type": "code",
   "execution_count": 90,
   "id": "291af513-82c3-4519-bac0-2227ebc545a7",
   "metadata": {},
   "outputs": [
    {
     "data": {
      "text/plain": [
       "True"
      ]
     },
     "execution_count": 90,
     "metadata": {},
     "output_type": "execute_result"
    }
   ],
   "source": [
    "23<=23"
   ]
  },
  {
   "cell_type": "code",
   "execution_count": null,
   "id": "f11a3302-00c9-44c3-9541-792cd607f30b",
   "metadata": {},
   "outputs": [],
   "source": []
  },
  {
   "cell_type": "markdown",
   "id": "b9047568-7610-4373-94da-01bff9e9114f",
   "metadata": {
    "jp-MarkdownHeadingCollapsed": true
   },
   "source": [
    "## 3. Equality Operator"
   ]
  },
  {
   "cell_type": "raw",
   "id": "57dcb25c-8c63-4f43-a161-12fc3af45a22",
   "metadata": {},
   "source": [
    "i) ==\n",
    "ii) !="
   ]
  },
  {
   "cell_type": "markdown",
   "id": "3b322a64-08ca-4132-bac8-8206161c0002",
   "metadata": {
    "jp-MarkdownHeadingCollapsed": true
   },
   "source": [
    "### i) =="
   ]
  },
  {
   "cell_type": "code",
   "execution_count": 92,
   "id": "9dc16aaa-4922-4fef-9e69-ab32d229aa7b",
   "metadata": {},
   "outputs": [
    {
     "data": {
      "text/plain": [
       "True"
      ]
     },
     "execution_count": 92,
     "metadata": {},
     "output_type": "execute_result"
    }
   ],
   "source": [
    "10==10"
   ]
  },
  {
   "cell_type": "code",
   "execution_count": 93,
   "id": "38743411-4efa-43ff-84fb-5e8c71b77904",
   "metadata": {},
   "outputs": [
    {
     "data": {
      "text/plain": [
       "False"
      ]
     },
     "execution_count": 93,
     "metadata": {},
     "output_type": "execute_result"
    }
   ],
   "source": [
    "10==20"
   ]
  },
  {
   "cell_type": "code",
   "execution_count": 105,
   "id": "8d67db93-08c6-45c3-a9b5-44801fe96371",
   "metadata": {},
   "outputs": [
    {
     "data": {
      "text/plain": [
       "False"
      ]
     },
     "execution_count": 105,
     "metadata": {},
     "output_type": "execute_result"
    }
   ],
   "source": [
    "\"nafiis\"==\"nafees\""
   ]
  },
  {
   "cell_type": "code",
   "execution_count": 100,
   "id": "08d934c6-4213-4414-a733-3547e46a5a15",
   "metadata": {},
   "outputs": [
    {
     "data": {
      "text/plain": [
       "True"
      ]
     },
     "execution_count": 100,
     "metadata": {},
     "output_type": "execute_result"
    }
   ],
   "source": [
    "\"hammad\"==\"hammad\""
   ]
  },
  {
   "cell_type": "markdown",
   "id": "025093c7-3bb5-4b09-828a-5c1b38edfed8",
   "metadata": {},
   "source": [
    "### ii) != "
   ]
  },
  {
   "cell_type": "code",
   "execution_count": 95,
   "id": "108b7185-b3f7-46fb-86ad-1a15d960fb95",
   "metadata": {},
   "outputs": [
    {
     "data": {
      "text/plain": [
       "True"
      ]
     },
     "execution_count": 95,
     "metadata": {},
     "output_type": "execute_result"
    }
   ],
   "source": [
    "20!=234"
   ]
  },
  {
   "cell_type": "code",
   "execution_count": 96,
   "id": "0c4ceaaf-bc91-44c1-8c5c-8a5888e567ee",
   "metadata": {},
   "outputs": [
    {
     "data": {
      "text/plain": [
       "False"
      ]
     },
     "execution_count": 96,
     "metadata": {},
     "output_type": "execute_result"
    }
   ],
   "source": [
    "10!=10"
   ]
  },
  {
   "cell_type": "code",
   "execution_count": 98,
   "id": "0618e32a-16a2-4ad0-b76c-9fa1621f2007",
   "metadata": {},
   "outputs": [
    {
     "data": {
      "text/plain": [
       "True"
      ]
     },
     "execution_count": 98,
     "metadata": {},
     "output_type": "execute_result"
    }
   ],
   "source": [
    "\"a\"!=\"d\""
   ]
  },
  {
   "cell_type": "code",
   "execution_count": null,
   "id": "40c86619-c4ac-42f5-a7cb-a5a27ddc66b7",
   "metadata": {},
   "outputs": [],
   "source": []
  },
  {
   "cell_type": "markdown",
   "id": "cf6ce74b-d721-401f-afa9-a863a35ff609",
   "metadata": {
    "jp-MarkdownHeadingCollapsed": true
   },
   "source": [
    "## 4. Logical Operators"
   ]
  },
  {
   "cell_type": "raw",
   "id": "d9d0a564-9284-4ade-847f-db55180d2e5f",
   "metadata": {},
   "source": [
    "i)   and = if both arguments are true then result is true\n",
    "ii)  or  = if atleast one argument is true then result is true \n",
    "iii) not = compliment"
   ]
  },
  {
   "cell_type": "markdown",
   "id": "9c791d88-e805-4241-95b7-ebec999cec8d",
   "metadata": {
    "jp-MarkdownHeadingCollapsed": true
   },
   "source": [
    "### i) and"
   ]
  },
  {
   "cell_type": "code",
   "execution_count": 107,
   "id": "36a6993d-4814-4ce7-997a-f632646d6684",
   "metadata": {},
   "outputs": [
    {
     "data": {
      "text/plain": [
       "False"
      ]
     },
     "execution_count": 107,
     "metadata": {},
     "output_type": "execute_result"
    }
   ],
   "source": [
    "True and False"
   ]
  },
  {
   "cell_type": "code",
   "execution_count": 111,
   "id": "4e9f68fa-59ee-4415-8507-355d3ab49658",
   "metadata": {},
   "outputs": [
    {
     "data": {
      "text/plain": [
       "0"
      ]
     },
     "execution_count": 111,
     "metadata": {},
     "output_type": "execute_result"
    }
   ],
   "source": [
    "0 and 1"
   ]
  },
  {
   "cell_type": "code",
   "execution_count": 112,
   "id": "9e67a331-fc00-4db3-8f85-f1115a5aa9fd",
   "metadata": {},
   "outputs": [
    {
     "data": {
      "text/plain": [
       "10"
      ]
     },
     "execution_count": 112,
     "metadata": {},
     "output_type": "execute_result"
    }
   ],
   "source": [
    "1 and 10"
   ]
  },
  {
   "cell_type": "markdown",
   "id": "135ce35f-22b5-4a51-9830-7390073b5c43",
   "metadata": {
    "jp-MarkdownHeadingCollapsed": true
   },
   "source": [
    "### ii) or"
   ]
  },
  {
   "cell_type": "code",
   "execution_count": 118,
   "id": "a7331131-cda4-4af9-b65e-ac992087d15f",
   "metadata": {},
   "outputs": [
    {
     "data": {
      "text/plain": [
       "1"
      ]
     },
     "execution_count": 118,
     "metadata": {},
     "output_type": "execute_result"
    }
   ],
   "source": [
    "0 or 1"
   ]
  },
  {
   "cell_type": "code",
   "execution_count": 119,
   "id": "97f40084-d751-4c75-8e60-e674ecd30b70",
   "metadata": {},
   "outputs": [
    {
     "data": {
      "text/plain": [
       "0"
      ]
     },
     "execution_count": 119,
     "metadata": {},
     "output_type": "execute_result"
    }
   ],
   "source": [
    "0 or 0"
   ]
  },
  {
   "cell_type": "code",
   "execution_count": 120,
   "id": "e2e44922-c68c-4afd-bbe5-a9df960d6268",
   "metadata": {},
   "outputs": [
    {
     "data": {
      "text/plain": [
       "1"
      ]
     },
     "execution_count": 120,
     "metadata": {},
     "output_type": "execute_result"
    }
   ],
   "source": [
    "1 or 0"
   ]
  },
  {
   "cell_type": "code",
   "execution_count": 123,
   "id": "a3a25dea-3eba-4ee8-98a0-5118e7354e3e",
   "metadata": {},
   "outputs": [
    {
     "data": {
      "text/plain": [
       "True"
      ]
     },
     "execution_count": 123,
     "metadata": {},
     "output_type": "execute_result"
    }
   ],
   "source": [
    "a=10<1\n",
    "b=10==10\n",
    "a or b "
   ]
  },
  {
   "cell_type": "markdown",
   "id": "7c46ddbe-de0e-4190-ba27-bfa123f3727d",
   "metadata": {
    "jp-MarkdownHeadingCollapsed": true
   },
   "source": [
    "### iii) not"
   ]
  },
  {
   "cell_type": "code",
   "execution_count": 125,
   "id": "37d4c3e4-7b1c-447d-a1ad-ff81aa3ae03c",
   "metadata": {},
   "outputs": [
    {
     "data": {
      "text/plain": [
       "True"
      ]
     },
     "execution_count": 125,
     "metadata": {},
     "output_type": "execute_result"
    }
   ],
   "source": [
    "True"
   ]
  },
  {
   "cell_type": "code",
   "execution_count": 136,
   "id": "729406bf-aaab-456a-806e-6c30bd5bfd0c",
   "metadata": {},
   "outputs": [
    {
     "data": {
      "text/plain": [
       "False"
      ]
     },
     "execution_count": 136,
     "metadata": {},
     "output_type": "execute_result"
    }
   ],
   "source": [
    "x=100\n",
    "y=200>x\n",
    "not y"
   ]
  },
  {
   "cell_type": "code",
   "execution_count": 133,
   "id": "fe9de88c-4c9d-495a-9b0f-15d4b3599e47",
   "metadata": {},
   "outputs": [
    {
     "data": {
      "text/plain": [
       "False"
      ]
     },
     "execution_count": 133,
     "metadata": {},
     "output_type": "execute_result"
    }
   ],
   "source": [
    "not b"
   ]
  },
  {
   "cell_type": "markdown",
   "id": "45c9d30c-af6c-4c9d-b5d3-3d2d5d357023",
   "metadata": {
    "jp-MarkdownHeadingCollapsed": true
   },
   "source": [
    "## 5. Bitwise Operators"
   ]
  },
  {
   "cell_type": "raw",
   "id": "366cc3da-8890-4eb1-a1f3-e4b4ee781873",
   "metadata": {},
   "source": [
    "These operatorsare applicableonly for integer and boolean type\n",
    "i)   & = if both are 1 then only result is 1 otherwise result is 0\n",
    "ii)  | = if atleast one bits is 1 then the result is otherwise result is 0\n",
    "iii) ^ = if bits are different then the result is 1 otherwise result is 0\n",
    "iv)  ~ = bitwise complement operator i.e. means 1 is 0 and 0 is 1 \n",
    "v)  << = bitwise left shift operator\n",
    "vi) >> = bitwise right shift operator"
   ]
  },
  {
   "cell_type": "markdown",
   "id": "b76df603-a0a6-4e6f-a1e8-2525fe913b37",
   "metadata": {
    "jp-MarkdownHeadingCollapsed": true
   },
   "source": [
    "### i) &"
   ]
  },
  {
   "cell_type": "code",
   "execution_count": 2,
   "id": "f64f769f-e2a8-4def-bd41-c74b4ebd463d",
   "metadata": {},
   "outputs": [
    {
     "data": {
      "text/plain": [
       "1"
      ]
     },
     "execution_count": 2,
     "metadata": {},
     "output_type": "execute_result"
    }
   ],
   "source": [
    "1 & True"
   ]
  },
  {
   "cell_type": "code",
   "execution_count": 3,
   "id": "be62f8ba-eeba-4d6a-a364-275ab53e6b16",
   "metadata": {},
   "outputs": [
    {
     "data": {
      "text/plain": [
       "0"
      ]
     },
     "execution_count": 3,
     "metadata": {},
     "output_type": "execute_result"
    }
   ],
   "source": [
    "1 & 0"
   ]
  },
  {
   "cell_type": "code",
   "execution_count": 5,
   "id": "1b8a20a6-c852-4d25-9d1e-f18eb980fd69",
   "metadata": {},
   "outputs": [
    {
     "data": {
      "text/plain": [
       "0"
      ]
     },
     "execution_count": 5,
     "metadata": {},
     "output_type": "execute_result"
    }
   ],
   "source": [
    "1 & False"
   ]
  },
  {
   "cell_type": "code",
   "execution_count": 8,
   "id": "65f691a2-cf6c-43b0-8d35-02dab7748c65",
   "metadata": {},
   "outputs": [
    {
     "data": {
      "text/plain": [
       "0"
      ]
     },
     "execution_count": 8,
     "metadata": {},
     "output_type": "execute_result"
    }
   ],
   "source": [
    "1 & 2"
   ]
  },
  {
   "cell_type": "code",
   "execution_count": null,
   "id": "74442e74-91f3-4718-b67f-c50d34c94388",
   "metadata": {},
   "outputs": [],
   "source": []
  },
  {
   "cell_type": "markdown",
   "id": "e2057995-add0-4cbe-b4ba-2b15248c850d",
   "metadata": {},
   "source": [
    "### ii) |"
   ]
  },
  {
   "cell_type": "code",
   "execution_count": 10,
   "id": "4554f207-6e25-41c8-9b16-098cc5d9e072",
   "metadata": {},
   "outputs": [
    {
     "data": {
      "text/plain": [
       "True"
      ]
     },
     "execution_count": 10,
     "metadata": {},
     "output_type": "execute_result"
    }
   ],
   "source": [
    "True | True"
   ]
  },
  {
   "cell_type": "code",
   "execution_count": 11,
   "id": "260e2331-f642-48b3-a2d1-4072a75c61fe",
   "metadata": {},
   "outputs": [
    {
     "data": {
      "text/plain": [
       "True"
      ]
     },
     "execution_count": 11,
     "metadata": {},
     "output_type": "execute_result"
    }
   ],
   "source": [
    "False | True"
   ]
  },
  {
   "cell_type": "code",
   "execution_count": 15,
   "id": "c94b30ba-9f91-4fd3-8e6a-26333814b0d8",
   "metadata": {},
   "outputs": [
    {
     "data": {
      "text/plain": [
       "0"
      ]
     },
     "execution_count": 15,
     "metadata": {},
     "output_type": "execute_result"
    }
   ],
   "source": [
    "False | 0"
   ]
  },
  {
   "cell_type": "code",
   "execution_count": null,
   "id": "b8ce245b-a71b-4086-a8af-abada26633a1",
   "metadata": {},
   "outputs": [],
   "source": []
  },
  {
   "cell_type": "markdown",
   "id": "518b7b2b-41df-4478-9c54-85c143859773",
   "metadata": {
    "jp-MarkdownHeadingCollapsed": true
   },
   "source": [
    "## 6. Assignment Operators"
   ]
  },
  {
   "cell_type": "raw",
   "id": "b2878b95-680e-44d6-9fb9-728e2146ac20",
   "metadata": {},
   "source": [
    "i)    = \n",
    "ii)  +=\n",
    "iii) -=\n",
    "iv)  *=\n",
    "v)   /="
   ]
  },
  {
   "cell_type": "code",
   "execution_count": 18,
   "id": "50696e21-4c8d-4d06-8648-e4e309ef93c5",
   "metadata": {},
   "outputs": [
    {
     "data": {
      "text/plain": [
       "10"
      ]
     },
     "execution_count": 18,
     "metadata": {},
     "output_type": "execute_result"
    }
   ],
   "source": [
    "a = 10\n",
    "a"
   ]
  },
  {
   "cell_type": "code",
   "execution_count": 21,
   "id": "8461aacd-86a0-4393-8cba-6b050b980517",
   "metadata": {},
   "outputs": [
    {
     "data": {
      "text/plain": [
       "30"
      ]
     },
     "execution_count": 21,
     "metadata": {},
     "output_type": "execute_result"
    }
   ],
   "source": [
    "a = 10 + 20 * 2 // 2\n",
    "a"
   ]
  },
  {
   "cell_type": "code",
   "execution_count": 22,
   "id": "d214eb5f-fec4-482a-9d16-7994aaa93630",
   "metadata": {},
   "outputs": [
    {
     "data": {
      "text/plain": [
       "30"
      ]
     },
     "execution_count": 22,
     "metadata": {},
     "output_type": "execute_result"
    }
   ],
   "source": [
    "a = 10 \n",
    "z = a + 20\n",
    "z"
   ]
  },
  {
   "cell_type": "code",
   "execution_count": 33,
   "id": "d3c9d96d-1cbd-4b2f-b7a5-af74d494145c",
   "metadata": {},
   "outputs": [
    {
     "data": {
      "text/plain": [
       "30"
      ]
     },
     "execution_count": 33,
     "metadata": {},
     "output_type": "execute_result"
    }
   ],
   "source": [
    "a1 = 10\n",
    "a1 += 20\n",
    "a1"
   ]
  },
  {
   "cell_type": "code",
   "execution_count": 35,
   "id": "a4cbab6c-e822-4ed2-ab5b-bb6642eec182",
   "metadata": {},
   "outputs": [
    {
     "data": {
      "text/plain": [
       "20"
      ]
     },
     "execution_count": 35,
     "metadata": {},
     "output_type": "execute_result"
    }
   ],
   "source": [
    "n1 = 10\n",
    "n1 = n1 + 10\n",
    "n1"
   ]
  },
  {
   "cell_type": "code",
   "execution_count": 39,
   "id": "fdcb04e5-d2ce-4e23-82da-bbffb4e0f182",
   "metadata": {},
   "outputs": [
    {
     "data": {
      "text/plain": [
       "60"
      ]
     },
     "execution_count": 39,
     "metadata": {},
     "output_type": "execute_result"
    }
   ],
   "source": [
    "x = 50  \n",
    "x += 10   # x = x + 10\n",
    "x"
   ]
  },
  {
   "cell_type": "code",
   "execution_count": 40,
   "id": "3dacfa5c-4361-4d43-8499-8304e4d75738",
   "metadata": {},
   "outputs": [
    {
     "data": {
      "text/plain": [
       "40"
      ]
     },
     "execution_count": 40,
     "metadata": {},
     "output_type": "execute_result"
    }
   ],
   "source": [
    "x = 50 \n",
    "x -= 10\n",
    "x"
   ]
  },
  {
   "cell_type": "code",
   "execution_count": 41,
   "id": "6ac2e9cf-cb41-4435-a3e2-4c2016bfa818",
   "metadata": {},
   "outputs": [
    {
     "data": {
      "text/plain": [
       "50"
      ]
     },
     "execution_count": 41,
     "metadata": {},
     "output_type": "execute_result"
    }
   ],
   "source": [
    "x = 100\n",
    "x -= 50\n",
    "x"
   ]
  },
  {
   "cell_type": "code",
   "execution_count": 43,
   "id": "2abb0657-4af7-4604-b388-34b3a94cd3a7",
   "metadata": {},
   "outputs": [
    {
     "data": {
      "text/plain": [
       "40"
      ]
     },
     "execution_count": 43,
     "metadata": {},
     "output_type": "execute_result"
    }
   ],
   "source": [
    "x = 20\n",
    "x *= 2\n",
    "x"
   ]
  },
  {
   "cell_type": "code",
   "execution_count": 45,
   "id": "87e6ae93-a183-4b1a-9e2a-1d24a198c06d",
   "metadata": {},
   "outputs": [
    {
     "data": {
      "text/plain": [
       "125"
      ]
     },
     "execution_count": 45,
     "metadata": {},
     "output_type": "execute_result"
    }
   ],
   "source": [
    "x = 5\n",
    "x *= 5*5\n",
    "x"
   ]
  },
  {
   "cell_type": "code",
   "execution_count": 47,
   "id": "dda33436-0bd5-4008-a8f0-73148dddea3d",
   "metadata": {},
   "outputs": [
    {
     "data": {
      "text/plain": [
       "5.0"
      ]
     },
     "execution_count": 47,
     "metadata": {},
     "output_type": "execute_result"
    }
   ],
   "source": [
    "x = 10\n",
    "x /= 2 \n",
    "x"
   ]
  },
  {
   "cell_type": "code",
   "execution_count": 48,
   "id": "3b807b90-c87e-4a0b-a57a-283730badd80",
   "metadata": {},
   "outputs": [
    {
     "data": {
      "text/plain": [
       "20"
      ]
     },
     "execution_count": 48,
     "metadata": {},
     "output_type": "execute_result"
    }
   ],
   "source": [
    "x = 40\n",
    "x //= 2\n",
    "x"
   ]
  },
  {
   "cell_type": "code",
   "execution_count": null,
   "id": "6afa2f1b-b6e8-4062-9a49-5e576d4a1095",
   "metadata": {},
   "outputs": [],
   "source": []
  },
  {
   "cell_type": "markdown",
   "id": "acf85af2-2de9-420d-824b-d4f5f8806d4a",
   "metadata": {},
   "source": [
    "## 7. Conditional / Ternary Operators"
   ]
  },
  {
   "cell_type": "code",
   "execution_count": 52,
   "id": "f880dde0-21ed-4e6d-8642-1018de1ef58b",
   "metadata": {},
   "outputs": [
    {
     "name": "stdout",
     "output_type": "stream",
     "text": [
      "20\n"
     ]
    }
   ],
   "source": [
    "a , b , c = 10 , 20 , 30\n",
    "print(b)"
   ]
  },
  {
   "cell_type": "code",
   "execution_count": 86,
   "id": "dc46b607-4b6e-4ccb-9c09-90a25418331e",
   "metadata": {},
   "outputs": [],
   "source": [
    "#variable = FirstValue if condition secondvalue elif condition else third value "
   ]
  },
  {
   "cell_type": "code",
   "execution_count": 87,
   "id": "c04f56f6-4e10-466b-98ed-6d9be0bfd3de",
   "metadata": {},
   "outputs": [
    {
     "data": {
      "text/plain": [
       "20"
      ]
     },
     "execution_count": 87,
     "metadata": {},
     "output_type": "execute_result"
    }
   ],
   "source": [
    "# Syntax\n",
    "a = 10 if \"nafees\" == \"safeen\" else 20\n",
    "a"
   ]
  },
  {
   "cell_type": "code",
   "execution_count": 88,
   "id": "cdee047e-938d-4ffa-8cc4-3a8d890d8c61",
   "metadata": {},
   "outputs": [
    {
     "name": "stdout",
     "output_type": "stream",
     "text": [
      "hammad\n"
     ]
    }
   ],
   "source": [
    "z = \"nafees\" if 20>30 else \"hammad\"\n",
    "print(z)"
   ]
  },
  {
   "cell_type": "code",
   "execution_count": 89,
   "id": "c8dd8211-f755-4dd1-ad77-c7b8c930fa9e",
   "metadata": {},
   "outputs": [
    {
     "data": {
      "text/plain": [
       "'khadijah rabbani'"
      ]
     },
     "execution_count": 89,
     "metadata": {},
     "output_type": "execute_result"
    }
   ],
   "source": [
    "x = \"khadijah rabbani\"\n",
    "x = \"khadijah rabbani\" if len(x)%2 == 0 else \"nafees\"\n",
    "x"
   ]
  },
  {
   "cell_type": "code",
   "execution_count": 90,
   "id": "69b571d6-d99c-49ba-a8c3-0b230ad7e4f5",
   "metadata": {},
   "outputs": [
    {
     "data": {
      "text/plain": [
       "8"
      ]
     },
     "execution_count": 90,
     "metadata": {},
     "output_type": "execute_result"
    }
   ],
   "source": [
    "x = \"khadijah rabbani\"\n",
    "len(x)//2"
   ]
  },
  {
   "cell_type": "code",
   "execution_count": 108,
   "id": "68b59ab3-6f8f-4b2a-ba2d-a038cfde7db4",
   "metadata": {},
   "outputs": [
    {
     "data": {
      "text/plain": [
       "'hammad'"
      ]
     },
     "execution_count": 108,
     "metadata": {},
     "output_type": "execute_result"
    }
   ],
   "source": [
    "n = \"nafees\" if 10==20 else \"hammad\" if 10!=20 else \"abbad\"\n",
    "n"
   ]
  }
 ],
 "metadata": {
  "kernelspec": {
   "display_name": "Python [conda env:base] *",
   "language": "python",
   "name": "conda-base-py"
  },
  "language_info": {
   "codemirror_mode": {
    "name": "ipython",
    "version": 3
   },
   "file_extension": ".py",
   "mimetype": "text/x-python",
   "name": "python",
   "nbconvert_exporter": "python",
   "pygments_lexer": "ipython3",
   "version": "3.12.7"
  }
 },
 "nbformat": 4,
 "nbformat_minor": 5
}
