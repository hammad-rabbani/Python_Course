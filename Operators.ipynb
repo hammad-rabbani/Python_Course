{
 "cells": [
  {
   "cell_type": "markdown",
   "id": "fee7463e-b651-4e40-b3c0-584c04f32af8",
   "metadata": {
    "jp-MarkdownHeadingCollapsed": true
   },
   "source": [
    "# Python Operators"
   ]
  },
  {
   "cell_type": "raw",
   "id": "551f00df-f236-48b6-8e44-046c1e32b624",
   "metadata": {
    "scrolled": true
   },
   "source": [
    "# Operators in Python are special symbols that perform operations on variables and values.\n",
    "1. Arithmetic Operators\n",
    "2. Relational Operators\n",
    "3. Equality Operators\n",
    "4. Logical Operators\n",
    "5. Bitwise Operators\n",
    "6. Assignment Operators\n",
    "7. Ternary/Conditionl Operators\n",
    "8. Identity Operators\n",
    "9. Membership Operators\n"
   ]
  },
  {
   "cell_type": "markdown",
   "id": "a6fbacfe-82e2-4d7f-9ad7-a90c53f506ba",
   "metadata": {
    "jp-MarkdownHeadingCollapsed": true
   },
   "source": [
    "## 1. Arithmetic Operators"
   ]
  },
  {
   "cell_type": "raw",
   "id": "dc95f36f-f1a3-4fdb-8b38-b1a64018ea99",
   "metadata": {},
   "source": [
    "\"\"\"\n",
    "i) + addition\n",
    "ii) - Subtraction\n",
    "iii) * multiplication\n",
    "iv) % Modulus (Remainder)\n",
    "v) / Division (quotient in float)\n",
    "vi) // Floor division (quotient in whole number)\n",
    "vii) ** Exponentiation\n",
    "\"\"\""
   ]
  },
  {
   "cell_type": "markdown",
   "id": "15a34d63-0552-46bd-a56c-75001991ad2a",
   "metadata": {
    "jp-MarkdownHeadingCollapsed": true
   },
   "source": [
    "### i) Addition\n"
   ]
  },
  {
   "cell_type": "code",
   "execution_count": 7,
   "id": "50137d9c-d67d-4354-8315-dc39e4280288",
   "metadata": {},
   "outputs": [
    {
     "data": {
      "text/plain": [
       "'hammad'"
      ]
     },
     "execution_count": 7,
     "metadata": {},
     "output_type": "execute_result"
    }
   ],
   "source": [
    "\"ham\"+\"mad\""
   ]
  },
  {
   "cell_type": "code",
   "execution_count": 8,
   "id": "35d40ce4-3b56-4730-bc60-2e7116b08018",
   "metadata": {},
   "outputs": [
    {
     "data": {
      "text/plain": [
       "17"
      ]
     },
     "execution_count": 8,
     "metadata": {},
     "output_type": "execute_result"
    }
   ],
   "source": [
    "x=5+6+4+2\n",
    "x"
   ]
  },
  {
   "cell_type": "code",
   "execution_count": 9,
   "id": "adcb5f01-0976-405b-94bc-8134c3242afc",
   "metadata": {},
   "outputs": [
    {
     "data": {
      "text/plain": [
       "1"
      ]
     },
     "execution_count": 9,
     "metadata": {},
     "output_type": "execute_result"
    }
   ],
   "source": [
    "x=0+True\n",
    "x"
   ]
  },
  {
   "cell_type": "code",
   "execution_count": 10,
   "id": "4d40085b-c6f2-4527-9ede-8c5d7a28b144",
   "metadata": {},
   "outputs": [
    {
     "name": "stdout",
     "output_type": "stream",
     "text": [
      "1020\n"
     ]
    },
    {
     "data": {
      "text/plain": [
       "str"
      ]
     },
     "execution_count": 10,
     "metadata": {},
     "output_type": "execute_result"
    }
   ],
   "source": [
    "x=\"10\"+\"20\"\n",
    "print(x)\n",
    "type(x)\n"
   ]
  },
  {
   "cell_type": "markdown",
   "id": "4db9e25c-cab4-4731-b1fa-f539f7402bd5",
   "metadata": {
    "jp-MarkdownHeadingCollapsed": true
   },
   "source": [
    "### ii) Subtraction\n"
   ]
  },
  {
   "cell_type": "code",
   "execution_count": null,
   "id": "7b786991-caf9-4b60-8641-e7869140def5",
   "metadata": {},
   "outputs": [],
   "source": []
  },
  {
   "cell_type": "code",
   "execution_count": 11,
   "id": "d4ef0330-076a-4be1-8329-418c6baf9766",
   "metadata": {},
   "outputs": [
    {
     "data": {
      "text/plain": [
       "543"
      ]
     },
     "execution_count": 11,
     "metadata": {},
     "output_type": "execute_result"
    }
   ],
   "source": [
    "x=654-87-24\n",
    "x"
   ]
  },
  {
   "cell_type": "markdown",
   "id": "da0f7bad-e7b4-4d16-90ac-ff79f6c0c2e4",
   "metadata": {
    "jp-MarkdownHeadingCollapsed": true
   },
   "source": [
    "### iii) Multiplication\n"
   ]
  },
  {
   "cell_type": "code",
   "execution_count": 12,
   "id": "0aa23795-62f3-4842-a3e1-ebb6878fd4b8",
   "metadata": {
    "scrolled": true
   },
   "outputs": [
    {
     "data": {
      "text/plain": [
       "238"
      ]
     },
     "execution_count": 12,
     "metadata": {},
     "output_type": "execute_result"
    }
   ],
   "source": [
    "x=34*7\n",
    "x"
   ]
  },
  {
   "cell_type": "code",
   "execution_count": 13,
   "id": "8b181e12-f063-47c3-9568-85eb74873f21",
   "metadata": {},
   "outputs": [
    {
     "data": {
      "text/plain": [
       "'hammadhammad'"
      ]
     },
     "execution_count": 13,
     "metadata": {},
     "output_type": "execute_result"
    }
   ],
   "source": [
    "x=\"hammad\"*2\n",
    "x"
   ]
  },
  {
   "cell_type": "markdown",
   "id": "8e15d4c5-e36d-4259-83ef-0158764c582c",
   "metadata": {
    "jp-MarkdownHeadingCollapsed": true
   },
   "source": [
    "### iv) Modulus\n",
    "\n",
    "\n"
   ]
  },
  {
   "cell_type": "code",
   "execution_count": 14,
   "id": "3a06354d-4d6a-4e1f-ae79-0c5b190f8f79",
   "metadata": {},
   "outputs": [
    {
     "data": {
      "text/plain": [
       "0"
      ]
     },
     "execution_count": 14,
     "metadata": {},
     "output_type": "execute_result"
    }
   ],
   "source": [
    "x=5%5\n",
    "x"
   ]
  },
  {
   "cell_type": "code",
   "execution_count": 15,
   "id": "afb4d0b7-0e46-490a-93ed-8369bee40d86",
   "metadata": {},
   "outputs": [
    {
     "data": {
      "text/plain": [
       "3"
      ]
     },
     "execution_count": 15,
     "metadata": {},
     "output_type": "execute_result"
    }
   ],
   "source": [
    "34543%4"
   ]
  },
  {
   "cell_type": "markdown",
   "id": "82f028dc-7a2a-45be-a961-2ade2e7cc8c3",
   "metadata": {
    "jp-MarkdownHeadingCollapsed": true
   },
   "source": [
    "### v) Division\n"
   ]
  },
  {
   "cell_type": "code",
   "execution_count": 16,
   "id": "51e21d5e-76f7-4c46-a4c1-55291cd21bf4",
   "metadata": {},
   "outputs": [
    {
     "data": {
      "text/plain": [
       "125.0"
      ]
     },
     "execution_count": 16,
     "metadata": {},
     "output_type": "execute_result"
    }
   ],
   "source": [
    "x=625/5\n",
    "x"
   ]
  },
  {
   "cell_type": "code",
   "execution_count": 17,
   "id": "7178eac8-361f-4d90-9ac5-543fb9d8cbdb",
   "metadata": {},
   "outputs": [
    {
     "data": {
      "text/plain": [
       "5.0"
      ]
     },
     "execution_count": 17,
     "metadata": {},
     "output_type": "execute_result"
    }
   ],
   "source": [
    "x=25/5\n",
    "x"
   ]
  },
  {
   "cell_type": "markdown",
   "id": "0a2b21c8-d039-424f-90d1-1ff048d82b23",
   "metadata": {
    "jp-MarkdownHeadingCollapsed": true
   },
   "source": [
    "### vi) Floor division\n"
   ]
  },
  {
   "cell_type": "code",
   "execution_count": 18,
   "id": "6c921d83-236d-41a8-a545-590a314a777d",
   "metadata": {},
   "outputs": [
    {
     "data": {
      "text/plain": [
       "1028"
      ]
     },
     "execution_count": 18,
     "metadata": {},
     "output_type": "execute_result"
    }
   ],
   "source": [
    "x=12345//12\n",
    "x"
   ]
  },
  {
   "cell_type": "code",
   "execution_count": 19,
   "id": "42a232f1-5f0c-401c-bc34-1144c26b1d64",
   "metadata": {},
   "outputs": [
    {
     "data": {
      "text/plain": [
       "49"
      ]
     },
     "execution_count": 19,
     "metadata": {},
     "output_type": "execute_result"
    }
   ],
   "source": [
    "x=98//2\n",
    "x"
   ]
  },
  {
   "cell_type": "markdown",
   "id": "b17f9249-afbb-49c4-9c79-51b5a712abf7",
   "metadata": {
    "jp-MarkdownHeadingCollapsed": true
   },
   "source": [
    "### vii) Exponentiation\n"
   ]
  },
  {
   "cell_type": "code",
   "execution_count": 20,
   "id": "275f4230-ec53-44ca-95a2-383afeb8bb86",
   "metadata": {},
   "outputs": [
    {
     "data": {
      "text/plain": [
       "3125"
      ]
     },
     "execution_count": 20,
     "metadata": {},
     "output_type": "execute_result"
    }
   ],
   "source": [
    "x=5**5\n",
    "x"
   ]
  },
  {
   "cell_type": "code",
   "execution_count": 21,
   "id": "4f9d24d9-2827-4356-b7d5-0360d59b2b5c",
   "metadata": {},
   "outputs": [
    {
     "data": {
      "text/plain": [
       "64"
      ]
     },
     "execution_count": 21,
     "metadata": {},
     "output_type": "execute_result"
    }
   ],
   "source": [
    "x=2**6\n",
    "x"
   ]
  },
  {
   "cell_type": "code",
   "execution_count": null,
   "id": "ba230977-6135-4555-9b79-34bef218c62f",
   "metadata": {},
   "outputs": [],
   "source": []
  },
  {
   "cell_type": "markdown",
   "id": "1ced8e69-b76e-47e0-abc8-4ef68eced18d",
   "metadata": {
    "jp-MarkdownHeadingCollapsed": true
   },
   "source": [
    "## 2. Relational operators"
   ]
  },
  {
   "cell_type": "raw",
   "id": "f65fa9e8-4e87-412b-93ce-5cb934d97302",
   "metadata": {},
   "source": [
    "i)   > Greater Than\n",
    "ii)  >= Greater Than Equals To \n",
    "iii) < Less Than\n",
    "iv)  <= Less Than Equals To"
   ]
  },
  {
   "cell_type": "markdown",
   "id": "40b78e3b-e61b-4ee5-a6a2-e385278c613e",
   "metadata": {
    "jp-MarkdownHeadingCollapsed": true
   },
   "source": [
    "### i) Greater Than (>)"
   ]
  },
  {
   "cell_type": "code",
   "execution_count": 22,
   "id": "72571994-0e86-4285-9beb-9400b11926dd",
   "metadata": {},
   "outputs": [
    {
     "name": "stdout",
     "output_type": "stream",
     "text": [
      "False\n",
      "0\n"
     ]
    }
   ],
   "source": [
    "x=20\n",
    "y=100\n",
    "z=(x>y)\n",
    "print(z)\n",
    "print(int(z))\n"
   ]
  },
  {
   "cell_type": "code",
   "execution_count": 23,
   "id": "7c9aa888-dd2c-4d9b-a11c-71d570ae780a",
   "metadata": {},
   "outputs": [
    {
     "data": {
      "text/plain": [
       "True"
      ]
     },
     "execution_count": 23,
     "metadata": {},
     "output_type": "execute_result"
    }
   ],
   "source": [
    "100>20"
   ]
  },
  {
   "cell_type": "code",
   "execution_count": 24,
   "id": "a631fa8d-dc2d-4019-9fbd-0c70a34b688b",
   "metadata": {},
   "outputs": [
    {
     "data": {
      "text/plain": [
       "False"
      ]
     },
     "execution_count": 24,
     "metadata": {},
     "output_type": "execute_result"
    }
   ],
   "source": [
    "100>100"
   ]
  },
  {
   "cell_type": "markdown",
   "id": "abbfc69f-3886-4c8d-a984-9936f170233c",
   "metadata": {
    "jp-MarkdownHeadingCollapsed": true
   },
   "source": [
    "### ii) Greater Than Equals To"
   ]
  },
  {
   "cell_type": "code",
   "execution_count": 25,
   "id": "8d08dd31-2333-480b-8484-3d83a2f78414",
   "metadata": {},
   "outputs": [
    {
     "data": {
      "text/plain": [
       "True"
      ]
     },
     "execution_count": 25,
     "metadata": {},
     "output_type": "execute_result"
    }
   ],
   "source": [
    "100>=100"
   ]
  },
  {
   "cell_type": "code",
   "execution_count": 26,
   "id": "fff5ea2f-a3d4-4e90-875f-4d1d7668c7ab",
   "metadata": {},
   "outputs": [
    {
     "data": {
      "text/plain": [
       "True"
      ]
     },
     "execution_count": 26,
     "metadata": {},
     "output_type": "execute_result"
    }
   ],
   "source": [
    "\"hammad\">=\"hammad\"\n",
    "\n"
   ]
  },
  {
   "cell_type": "code",
   "execution_count": 27,
   "id": "5ce5bc8f-08bb-46b4-9223-bc6e1ccaed4c",
   "metadata": {},
   "outputs": [
    {
     "data": {
      "text/plain": [
       "True"
      ]
     },
     "execution_count": 27,
     "metadata": {},
     "output_type": "execute_result"
    }
   ],
   "source": [
    "\"20\">=\"20\""
   ]
  },
  {
   "cell_type": "markdown",
   "id": "15773c28-035d-43d0-b455-19fe4a66f392",
   "metadata": {
    "jp-MarkdownHeadingCollapsed": true
   },
   "source": [
    "### iii) Less Than (<)"
   ]
  },
  {
   "cell_type": "code",
   "execution_count": 28,
   "id": "9c875ee5-7456-4c7a-8bf8-53ac3b4abce8",
   "metadata": {},
   "outputs": [
    {
     "data": {
      "text/plain": [
       "True"
      ]
     },
     "execution_count": 28,
     "metadata": {},
     "output_type": "execute_result"
    }
   ],
   "source": [
    "23<43"
   ]
  },
  {
   "cell_type": "code",
   "execution_count": 29,
   "id": "daef3326-b5cd-4d74-8a83-95c2ba381753",
   "metadata": {},
   "outputs": [
    {
     "data": {
      "text/plain": [
       "True"
      ]
     },
     "execution_count": 29,
     "metadata": {},
     "output_type": "execute_result"
    }
   ],
   "source": [
    "\"hammad\"<\"zammad\""
   ]
  },
  {
   "cell_type": "code",
   "execution_count": 30,
   "id": "28ce73c2-03f6-4cde-a02e-4de6d6a1fce2",
   "metadata": {},
   "outputs": [
    {
     "data": {
      "text/plain": [
       "False"
      ]
     },
     "execution_count": 30,
     "metadata": {},
     "output_type": "execute_result"
    }
   ],
   "source": [
    "20<20"
   ]
  },
  {
   "cell_type": "markdown",
   "id": "62c9953a-418f-4684-b128-2c1d1ae03b28",
   "metadata": {
    "jp-MarkdownHeadingCollapsed": true
   },
   "source": [
    "### iv) Less Than Equals To"
   ]
  },
  {
   "cell_type": "code",
   "execution_count": 31,
   "id": "b200275a-41d6-486d-9d98-47e3a44bbe71",
   "metadata": {},
   "outputs": [
    {
     "data": {
      "text/plain": [
       "True"
      ]
     },
     "execution_count": 31,
     "metadata": {},
     "output_type": "execute_result"
    }
   ],
   "source": [
    "23<=54"
   ]
  },
  {
   "cell_type": "code",
   "execution_count": 32,
   "id": "20666682-8db0-4c99-bfb6-727a77c881f1",
   "metadata": {},
   "outputs": [
    {
     "data": {
      "text/plain": [
       "True"
      ]
     },
     "execution_count": 32,
     "metadata": {},
     "output_type": "execute_result"
    }
   ],
   "source": [
    "\"hammad\"<=\"hammad\""
   ]
  },
  {
   "cell_type": "code",
   "execution_count": 33,
   "id": "7f6039cf-07ed-4756-a0a9-f2c29bc2f502",
   "metadata": {},
   "outputs": [
    {
     "data": {
      "text/plain": [
       "True"
      ]
     },
     "execution_count": 33,
     "metadata": {},
     "output_type": "execute_result"
    }
   ],
   "source": [
    "\"hammad\"<=\"zebra\""
   ]
  },
  {
   "cell_type": "code",
   "execution_count": 34,
   "id": "291af513-82c3-4519-bac0-2227ebc545a7",
   "metadata": {},
   "outputs": [
    {
     "data": {
      "text/plain": [
       "True"
      ]
     },
     "execution_count": 34,
     "metadata": {},
     "output_type": "execute_result"
    }
   ],
   "source": [
    "23<=23"
   ]
  },
  {
   "cell_type": "code",
   "execution_count": null,
   "id": "f11a3302-00c9-44c3-9541-792cd607f30b",
   "metadata": {},
   "outputs": [],
   "source": []
  },
  {
   "cell_type": "markdown",
   "id": "b9047568-7610-4373-94da-01bff9e9114f",
   "metadata": {
    "jp-MarkdownHeadingCollapsed": true
   },
   "source": [
    "## 3. Equality Operator"
   ]
  },
  {
   "cell_type": "raw",
   "id": "57dcb25c-8c63-4f43-a161-12fc3af45a22",
   "metadata": {},
   "source": [
    "i) ==\n",
    "ii) !="
   ]
  },
  {
   "cell_type": "markdown",
   "id": "3b322a64-08ca-4132-bac8-8206161c0002",
   "metadata": {
    "jp-MarkdownHeadingCollapsed": true
   },
   "source": [
    "### i) =="
   ]
  },
  {
   "cell_type": "code",
   "execution_count": 35,
   "id": "9dc16aaa-4922-4fef-9e69-ab32d229aa7b",
   "metadata": {},
   "outputs": [
    {
     "data": {
      "text/plain": [
       "True"
      ]
     },
     "execution_count": 35,
     "metadata": {},
     "output_type": "execute_result"
    }
   ],
   "source": [
    "10==10"
   ]
  },
  {
   "cell_type": "code",
   "execution_count": 36,
   "id": "38743411-4efa-43ff-84fb-5e8c71b77904",
   "metadata": {},
   "outputs": [
    {
     "data": {
      "text/plain": [
       "False"
      ]
     },
     "execution_count": 36,
     "metadata": {},
     "output_type": "execute_result"
    }
   ],
   "source": [
    "10==20"
   ]
  },
  {
   "cell_type": "code",
   "execution_count": 37,
   "id": "8d67db93-08c6-45c3-a9b5-44801fe96371",
   "metadata": {},
   "outputs": [
    {
     "data": {
      "text/plain": [
       "False"
      ]
     },
     "execution_count": 37,
     "metadata": {},
     "output_type": "execute_result"
    }
   ],
   "source": [
    "\"nafiis\"==\"nafees\""
   ]
  },
  {
   "cell_type": "code",
   "execution_count": 38,
   "id": "08d934c6-4213-4414-a733-3547e46a5a15",
   "metadata": {},
   "outputs": [
    {
     "data": {
      "text/plain": [
       "True"
      ]
     },
     "execution_count": 38,
     "metadata": {},
     "output_type": "execute_result"
    }
   ],
   "source": [
    "\"hammad\"==\"hammad\""
   ]
  },
  {
   "cell_type": "markdown",
   "id": "025093c7-3bb5-4b09-828a-5c1b38edfed8",
   "metadata": {
    "jp-MarkdownHeadingCollapsed": true
   },
   "source": [
    "### ii) != "
   ]
  },
  {
   "cell_type": "code",
   "execution_count": 39,
   "id": "108b7185-b3f7-46fb-86ad-1a15d960fb95",
   "metadata": {},
   "outputs": [
    {
     "data": {
      "text/plain": [
       "True"
      ]
     },
     "execution_count": 39,
     "metadata": {},
     "output_type": "execute_result"
    }
   ],
   "source": [
    "20!=234"
   ]
  },
  {
   "cell_type": "code",
   "execution_count": 40,
   "id": "0c4ceaaf-bc91-44c1-8c5c-8a5888e567ee",
   "metadata": {},
   "outputs": [
    {
     "data": {
      "text/plain": [
       "False"
      ]
     },
     "execution_count": 40,
     "metadata": {},
     "output_type": "execute_result"
    }
   ],
   "source": [
    "10!=10"
   ]
  },
  {
   "cell_type": "code",
   "execution_count": 41,
   "id": "0618e32a-16a2-4ad0-b76c-9fa1621f2007",
   "metadata": {},
   "outputs": [
    {
     "data": {
      "text/plain": [
       "True"
      ]
     },
     "execution_count": 41,
     "metadata": {},
     "output_type": "execute_result"
    }
   ],
   "source": [
    "\"a\"!=\"d\""
   ]
  },
  {
   "cell_type": "code",
   "execution_count": null,
   "id": "40c86619-c4ac-42f5-a7cb-a5a27ddc66b7",
   "metadata": {},
   "outputs": [],
   "source": []
  },
  {
   "cell_type": "markdown",
   "id": "cf6ce74b-d721-401f-afa9-a863a35ff609",
   "metadata": {
    "jp-MarkdownHeadingCollapsed": true
   },
   "source": [
    "## 4. Logical Operators"
   ]
  },
  {
   "cell_type": "raw",
   "id": "d9d0a564-9284-4ade-847f-db55180d2e5f",
   "metadata": {},
   "source": [
    "i)   and = if both arguments are true then result is true\n",
    "ii)  or  = if atleast one argument is true then result is true \n",
    "iii) not = compliment"
   ]
  },
  {
   "cell_type": "markdown",
   "id": "9c791d88-e805-4241-95b7-ebec999cec8d",
   "metadata": {
    "jp-MarkdownHeadingCollapsed": true
   },
   "source": [
    "### i) and"
   ]
  },
  {
   "cell_type": "code",
   "execution_count": 42,
   "id": "36a6993d-4814-4ce7-997a-f632646d6684",
   "metadata": {},
   "outputs": [
    {
     "data": {
      "text/plain": [
       "False"
      ]
     },
     "execution_count": 42,
     "metadata": {},
     "output_type": "execute_result"
    }
   ],
   "source": [
    "True and False"
   ]
  },
  {
   "cell_type": "code",
   "execution_count": 43,
   "id": "4e9f68fa-59ee-4415-8507-355d3ab49658",
   "metadata": {},
   "outputs": [
    {
     "data": {
      "text/plain": [
       "0"
      ]
     },
     "execution_count": 43,
     "metadata": {},
     "output_type": "execute_result"
    }
   ],
   "source": [
    "0 and 1"
   ]
  },
  {
   "cell_type": "code",
   "execution_count": 44,
   "id": "9e67a331-fc00-4db3-8f85-f1115a5aa9fd",
   "metadata": {},
   "outputs": [
    {
     "data": {
      "text/plain": [
       "10"
      ]
     },
     "execution_count": 44,
     "metadata": {},
     "output_type": "execute_result"
    }
   ],
   "source": [
    "1 and 10"
   ]
  },
  {
   "cell_type": "markdown",
   "id": "135ce35f-22b5-4a51-9830-7390073b5c43",
   "metadata": {
    "jp-MarkdownHeadingCollapsed": true
   },
   "source": [
    "### ii) or"
   ]
  },
  {
   "cell_type": "code",
   "execution_count": 45,
   "id": "a7331131-cda4-4af9-b65e-ac992087d15f",
   "metadata": {},
   "outputs": [
    {
     "data": {
      "text/plain": [
       "1"
      ]
     },
     "execution_count": 45,
     "metadata": {},
     "output_type": "execute_result"
    }
   ],
   "source": [
    "0 or 1"
   ]
  },
  {
   "cell_type": "code",
   "execution_count": 46,
   "id": "97f40084-d751-4c75-8e60-e674ecd30b70",
   "metadata": {},
   "outputs": [
    {
     "data": {
      "text/plain": [
       "0"
      ]
     },
     "execution_count": 46,
     "metadata": {},
     "output_type": "execute_result"
    }
   ],
   "source": [
    "0 or 0"
   ]
  },
  {
   "cell_type": "code",
   "execution_count": 47,
   "id": "e2e44922-c68c-4afd-bbe5-a9df960d6268",
   "metadata": {},
   "outputs": [
    {
     "data": {
      "text/plain": [
       "1"
      ]
     },
     "execution_count": 47,
     "metadata": {},
     "output_type": "execute_result"
    }
   ],
   "source": [
    "1 or 0"
   ]
  },
  {
   "cell_type": "code",
   "execution_count": 48,
   "id": "a3a25dea-3eba-4ee8-98a0-5118e7354e3e",
   "metadata": {},
   "outputs": [
    {
     "data": {
      "text/plain": [
       "True"
      ]
     },
     "execution_count": 48,
     "metadata": {},
     "output_type": "execute_result"
    }
   ],
   "source": [
    "a=10<1\n",
    "b=10==10\n",
    "a or b "
   ]
  },
  {
   "cell_type": "markdown",
   "id": "7c46ddbe-de0e-4190-ba27-bfa123f3727d",
   "metadata": {
    "jp-MarkdownHeadingCollapsed": true
   },
   "source": [
    "### iii) not"
   ]
  },
  {
   "cell_type": "code",
   "execution_count": 49,
   "id": "37d4c3e4-7b1c-447d-a1ad-ff81aa3ae03c",
   "metadata": {},
   "outputs": [
    {
     "data": {
      "text/plain": [
       "True"
      ]
     },
     "execution_count": 49,
     "metadata": {},
     "output_type": "execute_result"
    }
   ],
   "source": [
    "True"
   ]
  },
  {
   "cell_type": "code",
   "execution_count": 50,
   "id": "729406bf-aaab-456a-806e-6c30bd5bfd0c",
   "metadata": {},
   "outputs": [
    {
     "data": {
      "text/plain": [
       "False"
      ]
     },
     "execution_count": 50,
     "metadata": {},
     "output_type": "execute_result"
    }
   ],
   "source": [
    "x=100\n",
    "y=200>x\n",
    "not y"
   ]
  },
  {
   "cell_type": "code",
   "execution_count": 51,
   "id": "fe9de88c-4c9d-495a-9b0f-15d4b3599e47",
   "metadata": {},
   "outputs": [
    {
     "data": {
      "text/plain": [
       "False"
      ]
     },
     "execution_count": 51,
     "metadata": {},
     "output_type": "execute_result"
    }
   ],
   "source": [
    "not b"
   ]
  },
  {
   "cell_type": "markdown",
   "id": "45c9d30c-af6c-4c9d-b5d3-3d2d5d357023",
   "metadata": {
    "jp-MarkdownHeadingCollapsed": true
   },
   "source": [
    "## 5. Bitwise Operators"
   ]
  },
  {
   "cell_type": "raw",
   "id": "366cc3da-8890-4eb1-a1f3-e4b4ee781873",
   "metadata": {},
   "source": [
    "These operatorsare applicableonly for integer and boolean type\n",
    "i)   & = if both are 1 then only result is 1 otherwise result is 0\n",
    "ii)  | = if atleast one bits is 1 then the result is otherwise result is 0\n",
    "iii) ^ = if bits are different then the result is 1 otherwise result is 0\n",
    "iv)  ~ = bitwise complement operator i.e. means 1 is 0 and 0 is 1 \n",
    "v)  << = bitwise left shift operator\n",
    "vi) >> = bitwise right shift operator"
   ]
  },
  {
   "cell_type": "markdown",
   "id": "b76df603-a0a6-4e6f-a1e8-2525fe913b37",
   "metadata": {
    "jp-MarkdownHeadingCollapsed": true
   },
   "source": [
    "### i) &"
   ]
  },
  {
   "cell_type": "code",
   "execution_count": 52,
   "id": "f64f769f-e2a8-4def-bd41-c74b4ebd463d",
   "metadata": {},
   "outputs": [
    {
     "data": {
      "text/plain": [
       "1"
      ]
     },
     "execution_count": 52,
     "metadata": {},
     "output_type": "execute_result"
    }
   ],
   "source": [
    "1 & True"
   ]
  },
  {
   "cell_type": "code",
   "execution_count": 53,
   "id": "be62f8ba-eeba-4d6a-a364-275ab53e6b16",
   "metadata": {},
   "outputs": [
    {
     "data": {
      "text/plain": [
       "0"
      ]
     },
     "execution_count": 53,
     "metadata": {},
     "output_type": "execute_result"
    }
   ],
   "source": [
    "1 & 0"
   ]
  },
  {
   "cell_type": "code",
   "execution_count": 54,
   "id": "1b8a20a6-c852-4d25-9d1e-f18eb980fd69",
   "metadata": {},
   "outputs": [
    {
     "data": {
      "text/plain": [
       "0"
      ]
     },
     "execution_count": 54,
     "metadata": {},
     "output_type": "execute_result"
    }
   ],
   "source": [
    "1 & False"
   ]
  },
  {
   "cell_type": "code",
   "execution_count": 55,
   "id": "65f691a2-cf6c-43b0-8d35-02dab7748c65",
   "metadata": {},
   "outputs": [
    {
     "data": {
      "text/plain": [
       "0"
      ]
     },
     "execution_count": 55,
     "metadata": {},
     "output_type": "execute_result"
    }
   ],
   "source": [
    "1 & 2"
   ]
  },
  {
   "cell_type": "code",
   "execution_count": null,
   "id": "74442e74-91f3-4718-b67f-c50d34c94388",
   "metadata": {},
   "outputs": [],
   "source": []
  },
  {
   "cell_type": "markdown",
   "id": "e2057995-add0-4cbe-b4ba-2b15248c850d",
   "metadata": {
    "jp-MarkdownHeadingCollapsed": true
   },
   "source": [
    "### ii) |"
   ]
  },
  {
   "cell_type": "code",
   "execution_count": 56,
   "id": "4554f207-6e25-41c8-9b16-098cc5d9e072",
   "metadata": {},
   "outputs": [
    {
     "data": {
      "text/plain": [
       "True"
      ]
     },
     "execution_count": 56,
     "metadata": {},
     "output_type": "execute_result"
    }
   ],
   "source": [
    "True | True"
   ]
  },
  {
   "cell_type": "code",
   "execution_count": 57,
   "id": "260e2331-f642-48b3-a2d1-4072a75c61fe",
   "metadata": {},
   "outputs": [
    {
     "data": {
      "text/plain": [
       "True"
      ]
     },
     "execution_count": 57,
     "metadata": {},
     "output_type": "execute_result"
    }
   ],
   "source": [
    "False | True"
   ]
  },
  {
   "cell_type": "code",
   "execution_count": 58,
   "id": "c94b30ba-9f91-4fd3-8e6a-26333814b0d8",
   "metadata": {},
   "outputs": [
    {
     "data": {
      "text/plain": [
       "0"
      ]
     },
     "execution_count": 58,
     "metadata": {},
     "output_type": "execute_result"
    }
   ],
   "source": [
    "False | 0"
   ]
  },
  {
   "cell_type": "code",
   "execution_count": null,
   "id": "b8ce245b-a71b-4086-a8af-abada26633a1",
   "metadata": {},
   "outputs": [],
   "source": []
  },
  {
   "cell_type": "markdown",
   "id": "518b7b2b-41df-4478-9c54-85c143859773",
   "metadata": {
    "jp-MarkdownHeadingCollapsed": true
   },
   "source": [
    "## 6. Assignment Operators"
   ]
  },
  {
   "cell_type": "raw",
   "id": "b2878b95-680e-44d6-9fb9-728e2146ac20",
   "metadata": {},
   "source": [
    "i)    = \n",
    "ii)  +=\n",
    "iii) -=\n",
    "iv)  *=\n",
    "v)   /="
   ]
  },
  {
   "cell_type": "code",
   "execution_count": 59,
   "id": "50696e21-4c8d-4d06-8648-e4e309ef93c5",
   "metadata": {},
   "outputs": [
    {
     "data": {
      "text/plain": [
       "10"
      ]
     },
     "execution_count": 59,
     "metadata": {},
     "output_type": "execute_result"
    }
   ],
   "source": [
    "a = 10\n",
    "a"
   ]
  },
  {
   "cell_type": "code",
   "execution_count": 60,
   "id": "8461aacd-86a0-4393-8cba-6b050b980517",
   "metadata": {},
   "outputs": [
    {
     "data": {
      "text/plain": [
       "30"
      ]
     },
     "execution_count": 60,
     "metadata": {},
     "output_type": "execute_result"
    }
   ],
   "source": [
    "a = 10 + 20 * 2 // 2\n",
    "a"
   ]
  },
  {
   "cell_type": "code",
   "execution_count": 61,
   "id": "d214eb5f-fec4-482a-9d16-7994aaa93630",
   "metadata": {},
   "outputs": [
    {
     "data": {
      "text/plain": [
       "30"
      ]
     },
     "execution_count": 61,
     "metadata": {},
     "output_type": "execute_result"
    }
   ],
   "source": [
    "a = 10 \n",
    "z = a + 20\n",
    "z"
   ]
  },
  {
   "cell_type": "code",
   "execution_count": 62,
   "id": "d3c9d96d-1cbd-4b2f-b7a5-af74d494145c",
   "metadata": {},
   "outputs": [
    {
     "data": {
      "text/plain": [
       "30"
      ]
     },
     "execution_count": 62,
     "metadata": {},
     "output_type": "execute_result"
    }
   ],
   "source": [
    "a1 = 10\n",
    "a1 += 20\n",
    "a1"
   ]
  },
  {
   "cell_type": "code",
   "execution_count": 63,
   "id": "a4cbab6c-e822-4ed2-ab5b-bb6642eec182",
   "metadata": {},
   "outputs": [
    {
     "data": {
      "text/plain": [
       "20"
      ]
     },
     "execution_count": 63,
     "metadata": {},
     "output_type": "execute_result"
    }
   ],
   "source": [
    "n1 = 10\n",
    "n1 = n1 + 10\n",
    "n1"
   ]
  },
  {
   "cell_type": "code",
   "execution_count": 64,
   "id": "fdcb04e5-d2ce-4e23-82da-bbffb4e0f182",
   "metadata": {},
   "outputs": [
    {
     "data": {
      "text/plain": [
       "60"
      ]
     },
     "execution_count": 64,
     "metadata": {},
     "output_type": "execute_result"
    }
   ],
   "source": [
    "x = 50  \n",
    "x += 10   # x = x + 10\n",
    "x"
   ]
  },
  {
   "cell_type": "code",
   "execution_count": 65,
   "id": "3dacfa5c-4361-4d43-8499-8304e4d75738",
   "metadata": {},
   "outputs": [
    {
     "data": {
      "text/plain": [
       "40"
      ]
     },
     "execution_count": 65,
     "metadata": {},
     "output_type": "execute_result"
    }
   ],
   "source": [
    "x = 50 \n",
    "x -= 10\n",
    "x"
   ]
  },
  {
   "cell_type": "code",
   "execution_count": 66,
   "id": "6ac2e9cf-cb41-4435-a3e2-4c2016bfa818",
   "metadata": {},
   "outputs": [
    {
     "data": {
      "text/plain": [
       "50"
      ]
     },
     "execution_count": 66,
     "metadata": {},
     "output_type": "execute_result"
    }
   ],
   "source": [
    "x = 100\n",
    "x -= 50\n",
    "x"
   ]
  },
  {
   "cell_type": "code",
   "execution_count": 67,
   "id": "2abb0657-4af7-4604-b388-34b3a94cd3a7",
   "metadata": {},
   "outputs": [
    {
     "data": {
      "text/plain": [
       "40"
      ]
     },
     "execution_count": 67,
     "metadata": {},
     "output_type": "execute_result"
    }
   ],
   "source": [
    "x = 20\n",
    "x *= 2\n",
    "x"
   ]
  },
  {
   "cell_type": "code",
   "execution_count": 68,
   "id": "87e6ae93-a183-4b1a-9e2a-1d24a198c06d",
   "metadata": {},
   "outputs": [
    {
     "data": {
      "text/plain": [
       "125"
      ]
     },
     "execution_count": 68,
     "metadata": {},
     "output_type": "execute_result"
    }
   ],
   "source": [
    "x = 5\n",
    "x *= 5*5\n",
    "x"
   ]
  },
  {
   "cell_type": "code",
   "execution_count": 69,
   "id": "dda33436-0bd5-4008-a8f0-73148dddea3d",
   "metadata": {},
   "outputs": [
    {
     "data": {
      "text/plain": [
       "5.0"
      ]
     },
     "execution_count": 69,
     "metadata": {},
     "output_type": "execute_result"
    }
   ],
   "source": [
    "x = 10\n",
    "x /= 2 \n",
    "x"
   ]
  },
  {
   "cell_type": "code",
   "execution_count": 70,
   "id": "3b807b90-c87e-4a0b-a57a-283730badd80",
   "metadata": {},
   "outputs": [
    {
     "data": {
      "text/plain": [
       "20"
      ]
     },
     "execution_count": 70,
     "metadata": {},
     "output_type": "execute_result"
    }
   ],
   "source": [
    "x = 40\n",
    "x //= 2\n",
    "x"
   ]
  },
  {
   "cell_type": "code",
   "execution_count": null,
   "id": "6afa2f1b-b6e8-4062-9a49-5e576d4a1095",
   "metadata": {},
   "outputs": [],
   "source": []
  },
  {
   "cell_type": "markdown",
   "id": "acf85af2-2de9-420d-824b-d4f5f8806d4a",
   "metadata": {
    "jp-MarkdownHeadingCollapsed": true
   },
   "source": [
    "## 7. Conditional / Ternary Operators"
   ]
  },
  {
   "cell_type": "code",
   "execution_count": 71,
   "id": "f880dde0-21ed-4e6d-8642-1018de1ef58b",
   "metadata": {},
   "outputs": [
    {
     "name": "stdout",
     "output_type": "stream",
     "text": [
      "20\n"
     ]
    }
   ],
   "source": [
    "a , b , c = 10 , 20 , 30\n",
    "print(b)"
   ]
  },
  {
   "cell_type": "code",
   "execution_count": 72,
   "id": "dc46b607-4b6e-4ccb-9c09-90a25418331e",
   "metadata": {},
   "outputs": [],
   "source": [
    "#variable = FirstValue if condition secondvalue elif condition else third value "
   ]
  },
  {
   "cell_type": "code",
   "execution_count": 73,
   "id": "c04f56f6-4e10-466b-98ed-6d9be0bfd3de",
   "metadata": {},
   "outputs": [
    {
     "data": {
      "text/plain": [
       "20"
      ]
     },
     "execution_count": 73,
     "metadata": {},
     "output_type": "execute_result"
    }
   ],
   "source": [
    "# Syntax\n",
    "a = 10 if \"nafees\" == \"safeen\" else 20\n",
    "a"
   ]
  },
  {
   "cell_type": "code",
   "execution_count": 74,
   "id": "cdee047e-938d-4ffa-8cc4-3a8d890d8c61",
   "metadata": {},
   "outputs": [
    {
     "name": "stdout",
     "output_type": "stream",
     "text": [
      "hammad\n"
     ]
    }
   ],
   "source": [
    "z = \"nafees\" if 20>30 else \"hammad\"\n",
    "print(z)"
   ]
  },
  {
   "cell_type": "code",
   "execution_count": 75,
   "id": "c8dd8211-f755-4dd1-ad77-c7b8c930fa9e",
   "metadata": {},
   "outputs": [
    {
     "data": {
      "text/plain": [
       "'khadijah rabbani'"
      ]
     },
     "execution_count": 75,
     "metadata": {},
     "output_type": "execute_result"
    }
   ],
   "source": [
    "x = \"khadijah rabbani\"\n",
    "x = \"khadijah rabbani\" if len(x)%2 == 0 else \"nafees\"\n",
    "x"
   ]
  },
  {
   "cell_type": "code",
   "execution_count": 73,
   "id": "69b571d6-d99c-49ba-a8c3-0b230ad7e4f5",
   "metadata": {},
   "outputs": [
    {
     "data": {
      "text/plain": [
       "8"
      ]
     },
     "execution_count": 73,
     "metadata": {},
     "output_type": "execute_result"
    }
   ],
   "source": [
    "x = \"khadijah rabbani\"\n",
    "len(x)//2"
   ]
  },
  {
   "cell_type": "code",
   "execution_count": 74,
   "id": "68b59ab3-6f8f-4b2a-ba2d-a038cfde7db4",
   "metadata": {},
   "outputs": [
    {
     "data": {
      "text/plain": [
       "'n'"
      ]
     },
     "execution_count": 74,
     "metadata": {},
     "output_type": "execute_result"
    }
   ],
   "source": [
    "n = \"nafees\" if 10==20 else \"n\" if 10!=20 else \"abbad\"\n",
    "n"
   ]
  },
  {
   "cell_type": "code",
   "execution_count": 75,
   "id": "1be2d232-deef-4903-b2c2-c3719cce2491",
   "metadata": {},
   "outputs": [
    {
     "data": {
      "text/plain": [
       "'genius'"
      ]
     },
     "execution_count": 75,
     "metadata": {},
     "output_type": "execute_result"
    }
   ],
   "source": [
    "hammad = \"joker\" if 10>20 else \"genius\"\n",
    "hammad"
   ]
  },
  {
   "cell_type": "code",
   "execution_count": 76,
   "id": "02325679-dbb9-4df8-bd44-23fa7990ff3b",
   "metadata": {},
   "outputs": [
    {
     "name": "stdout",
     "output_type": "stream",
     "text": [
      "2 is even\n",
      "4 is even\n",
      "6 is even\n",
      "8 is even\n",
      "10 is even\n"
     ]
    }
   ],
   "source": [
    "L = [1,2,3,4,5,6,7,8,9,10]\n",
    "for x in L:\n",
    "    if(x%2==0):\n",
    "        print( x ,\"is even\")\n",
    "        \n",
    "    "
   ]
  },
  {
   "cell_type": "code",
   "execution_count": 77,
   "id": "8d24c48f-b8b1-48f3-8ece-9a1101965611",
   "metadata": {},
   "outputs": [
    {
     "name": "stdout",
     "output_type": "stream",
     "text": [
      "1 is odd\n",
      "3 is odd\n",
      "5 is odd\n",
      "7 is odd\n",
      "9 is odd\n"
     ]
    }
   ],
   "source": [
    " s = [1,2,3,4,5,6,7,8,9,10]\n",
    "for x in s:\n",
    "    if(x%2!=0):\n",
    "        print( x ,\"is odd\")"
   ]
  },
  {
   "cell_type": "markdown",
   "id": "72edb819-1e9d-4cda-8a6b-26d6c05588a4",
   "metadata": {
    "jp-MarkdownHeadingCollapsed": true
   },
   "source": [
    "## 8. Identity Operators"
   ]
  },
  {
   "cell_type": "raw",
   "id": "dd352413-6178-4ef1-8b47-db7c1dd432a9",
   "metadata": {},
   "source": [
    "We can use identity operators for address comparison.\n",
    "There are 2 identity operators are available\n",
    "1) is \n",
    "2) is not\n",
    "\n",
    "a is b returns True if both a and b are pointing to the same object.\n",
    "a is not b returns True if both a and b are not pointing to the same object.\n",
    "\n",
    "Note: We can use \"is\" operator for address comparison where as \"==\" operator for content \n",
    "comparison."
   ]
  },
  {
   "cell_type": "code",
   "execution_count": 20,
   "id": "590ba196-7a8a-49a9-bd90-36735e725a93",
   "metadata": {},
   "outputs": [
    {
     "name": "stdout",
     "output_type": "stream",
     "text": [
      "140704831842712\n"
     ]
    },
    {
     "data": {
      "text/plain": [
       "140704831842840"
      ]
     },
     "execution_count": 20,
     "metadata": {},
     "output_type": "execute_result"
    }
   ],
   "source": [
    "a=0\n",
    "c=4\n",
    "print(id(a))\n",
    "id(c)"
   ]
  },
  {
   "cell_type": "code",
   "execution_count": 21,
   "id": "527ab0b4-b326-4d03-ad13-05173b0fac68",
   "metadata": {},
   "outputs": [
    {
     "data": {
      "text/plain": [
       "True"
      ]
     },
     "execution_count": 21,
     "metadata": {},
     "output_type": "execute_result"
    }
   ],
   "source": [
    "h=1\n",
    "h2=1\n",
    "h is h2"
   ]
  },
  {
   "cell_type": "code",
   "execution_count": 22,
   "id": "25123e5d-1357-4e74-9da1-8a7723744a4b",
   "metadata": {},
   "outputs": [
    {
     "data": {
      "text/plain": [
       "False"
      ]
     },
     "execution_count": 22,
     "metadata": {},
     "output_type": "execute_result"
    }
   ],
   "source": [
    "h is not h2"
   ]
  },
  {
   "cell_type": "code",
   "execution_count": 23,
   "id": "6efd0f94-1f46-438e-88d9-8037c76f4b18",
   "metadata": {},
   "outputs": [
    {
     "name": "stdout",
     "output_type": "stream",
     "text": [
      "True\n",
      "True\n"
     ]
    }
   ],
   "source": [
    "#Eg:\n",
    "a=10 \n",
    "b=10\n",
    "print(a is b) #True\n",
    "x=True \n",
    "y=True \n",
    "print( x is y) #True\n",
    "\n"
   ]
  },
  {
   "cell_type": "code",
   "execution_count": 24,
   "id": "a0a6a2a0-d163-465e-b798-b5f334fe51c7",
   "metadata": {},
   "outputs": [
    {
     "name": "stdout",
     "output_type": "stream",
     "text": [
      "2130320987008\n",
      "2130320987008\n"
     ]
    },
    {
     "data": {
      "text/plain": [
       "True"
      ]
     },
     "execution_count": 24,
     "metadata": {},
     "output_type": "execute_result"
    }
   ],
   "source": [
    "#Eg:\n",
    "a=\"nafees\" \n",
    "b=\"nafees\" \n",
    "print(id(a)) \n",
    "print(id(b))\n",
    "a is b"
   ]
  },
  {
   "cell_type": "code",
   "execution_count": 25,
   "id": "1366e610-81c6-456c-9dc1-6293b08d9147",
   "metadata": {},
   "outputs": [
    {
     "name": "stdout",
     "output_type": "stream",
     "text": [
      "2130321801536\n",
      "2130321806784\n",
      "False\n",
      "True\n",
      "True\n"
     ]
    }
   ],
   "source": [
    "#Eg:\n",
    "list1 = [\"one\",\"two\",\"three\"] \n",
    "list2 = [\"one\",\"two\",\"three\"] \n",
    "\n",
    "print(id(list1)) \n",
    "print(id(list2)) \n",
    "print(list1 is list2)#False\n",
    "print(list1 is not list2)#True\n",
    "print(list1 == list2)#True"
   ]
  },
  {
   "cell_type": "code",
   "execution_count": null,
   "id": "061544f6-41bb-4664-a6c7-a3d1474a7acd",
   "metadata": {},
   "outputs": [],
   "source": []
  },
  {
   "cell_type": "markdown",
   "id": "6b192110-cc35-40c5-97b2-ee353f7acad9",
   "metadata": {
    "jp-MarkdownHeadingCollapsed": true
   },
   "source": [
    "## 9. Membership Operators"
   ]
  },
  {
   "cell_type": "raw",
   "id": "8433e32d-6a24-4bd9-b1b8-aefe7e16b477",
   "metadata": {},
   "source": [
    "We can membership operator to check wether the given object are present in the collection.\n",
    "\n",
    "Types of membership Operator:-\n",
    "i)  in \n",
    "ii) not in"
   ]
  },
  {
   "cell_type": "code",
   "execution_count": 39,
   "id": "05d19fc2-24ff-43ce-ae50-b8068bc97626",
   "metadata": {},
   "outputs": [
    {
     "data": {
      "text/plain": [
       "True"
      ]
     },
     "execution_count": 39,
     "metadata": {},
     "output_type": "execute_result"
    }
   ],
   "source": [
    "hammad = [\"genius\",\"mad\",\"nafees\"]\n",
    "\"genius\" in hammad"
   ]
  },
  {
   "cell_type": "code",
   "execution_count": 52,
   "id": "f1cf9fbd-2940-40f9-8053-21096428fff2",
   "metadata": {},
   "outputs": [
    {
     "data": {
      "text/plain": [
       "True"
      ]
     },
     "execution_count": 52,
     "metadata": {},
     "output_type": "execute_result"
    }
   ],
   "source": [
    "\"gadha\" not in hammad"
   ]
  },
  {
   "cell_type": "code",
   "execution_count": 86,
   "id": "807dbfb4-3e62-43a7-9a37-3f6191c0673f",
   "metadata": {},
   "outputs": [
    {
     "data": {
      "text/plain": [
       "False"
      ]
     },
     "execution_count": 86,
     "metadata": {},
     "output_type": "execute_result"
    }
   ],
   "source": [
    "s = \"abcdefghjklmnopqrstuvwxyz\"\n",
    "\"z\" not in s"
   ]
  },
  {
   "cell_type": "code",
   "execution_count": 87,
   "id": "8ff28290-1d8b-41b1-82c7-f3ca2de527b0",
   "metadata": {},
   "outputs": [
    {
     "data": {
      "text/plain": [
       "False"
      ]
     },
     "execution_count": 87,
     "metadata": {},
     "output_type": "execute_result"
    }
   ],
   "source": [
    "s = \"abcdefghjklmnopqrstuvwxyz\"\n",
    "\"i\" in s"
   ]
  },
  {
   "cell_type": "code",
   "execution_count": 63,
   "id": "d6c296e6-4c89-4600-bf44-9d28f26a79ae",
   "metadata": {},
   "outputs": [
    {
     "name": "stdout",
     "output_type": "stream",
     "text": [
      "hammad is very good boy\n"
     ]
    }
   ],
   "source": [
    "L = [\"True\",1]\n",
    "if \"Tru\" in L:\n",
    "    print(\"hammad is a good boy\")\n",
    "else:\n",
    "    print(\"hammad is very good boy\")"
   ]
  },
  {
   "cell_type": "code",
   "execution_count": null,
   "id": "5e216cfd-a0ba-4b43-8454-27503d196433",
   "metadata": {},
   "outputs": [],
   "source": []
  },
  {
   "cell_type": "markdown",
   "id": "fffd6a9a-8a7d-448d-91ad-7f451c1ef9a2",
   "metadata": {},
   "source": [
    "# Maths Module"
   ]
  },
  {
   "cell_type": "code",
   "execution_count": 35,
   "id": "2d245e38-62a5-45f6-bd7d-f413d6d709c0",
   "metadata": {},
   "outputs": [
    {
     "name": "stdout",
     "output_type": "stream",
     "text": [
      "['False', 'None', 'True', 'and', 'as', 'assert', 'async', 'await', 'break', 'class', 'continue', 'def', 'del', 'elif', 'else', 'except', 'finally', 'for', 'from', 'global', 'if', 'import', 'in', 'is', 'lambda', 'nonlocal', 'not', 'or', 'pass', 'raise', 'return', 'try', 'while', 'with', 'yield']\n"
     ]
    }
   ],
   "source": [
    "import keyword\n",
    "print(keyword.kwlist)"
   ]
  },
  {
   "cell_type": "code",
   "execution_count": null,
   "id": "b0ba7f33-2236-4d1d-9417-cac84e7ce938",
   "metadata": {},
   "outputs": [],
   "source": []
  },
  {
   "cell_type": "code",
   "execution_count": 92,
   "id": "c047b7c4-5e9a-4317-95be-7b2f115ad1e1",
   "metadata": {},
   "outputs": [
    {
     "name": "stdout",
     "output_type": "stream",
     "text": [
      "<module 'math' (built-in)>\n"
     ]
    }
   ],
   "source": [
    "import math\n",
    "print(math)"
   ]
  },
  {
   "cell_type": "markdown",
   "id": "caf31062-d666-4f11-bbdd-492a3e9a685d",
   "metadata": {
    "jp-MarkdownHeadingCollapsed": true
   },
   "source": [
    "## Functions Of Math Modules\n"
   ]
  },
  {
   "cell_type": "markdown",
   "id": "73b7a41a-d20f-427f-9f1d-9c7e65467eed",
   "metadata": {
    "jp-MarkdownHeadingCollapsed": true
   },
   "source": [
    "### sqrt()"
   ]
  },
  {
   "cell_type": "code",
   "execution_count": 95,
   "id": "fbbd6f3f-8fba-43e5-978d-cf4f1556cd1f",
   "metadata": {},
   "outputs": [
    {
     "data": {
      "text/plain": [
       "15"
      ]
     },
     "execution_count": 95,
     "metadata": {},
     "output_type": "execute_result"
    }
   ],
   "source": [
    "int(math.sqrt(225))\n"
   ]
  },
  {
   "cell_type": "code",
   "execution_count": null,
   "id": "5b423744-c17a-4246-9d94-219a5463f540",
   "metadata": {},
   "outputs": [],
   "source": []
  },
  {
   "cell_type": "code",
   "execution_count": null,
   "id": "f76c9055-2a5d-43a3-94bb-4273cc69bd20",
   "metadata": {},
   "outputs": [],
   "source": []
  },
  {
   "cell_type": "markdown",
   "id": "c2977eb9-ddd2-4706-b5cf-49024e023268",
   "metadata": {
    "jp-MarkdownHeadingCollapsed": true
   },
   "source": [
    "### pi()"
   ]
  },
  {
   "cell_type": "code",
   "execution_count": 99,
   "id": "3c7ad4f3-38fd-418f-823e-015b8696ceb5",
   "metadata": {},
   "outputs": [
    {
     "data": {
      "text/plain": [
       "3.141592653589793"
      ]
     },
     "execution_count": 99,
     "metadata": {},
     "output_type": "execute_result"
    }
   ],
   "source": [
    "math.pi"
   ]
  },
  {
   "cell_type": "code",
   "execution_count": null,
   "id": "199265bf-e51e-4041-97bb-da2cc99e828d",
   "metadata": {},
   "outputs": [],
   "source": []
  },
  {
   "cell_type": "markdown",
   "id": "21cdeb31-4d57-4da6-bfaa-048b47b99d76",
   "metadata": {
    "jp-MarkdownHeadingCollapsed": true
   },
   "source": [
    "### ceil()"
   ]
  },
  {
   "cell_type": "code",
   "execution_count": 126,
   "id": "4160ffd1-44d8-45c7-b654-da937c30c52d",
   "metadata": {},
   "outputs": [
    {
     "data": {
      "text/plain": [
       "6"
      ]
     },
     "execution_count": 126,
     "metadata": {},
     "output_type": "execute_result"
    }
   ],
   "source": [
    "math.ceil(5.4)"
   ]
  },
  {
   "cell_type": "code",
   "execution_count": null,
   "id": "7a628ac1-d1cc-4a9f-9a4e-2873b018f569",
   "metadata": {},
   "outputs": [],
   "source": []
  },
  {
   "cell_type": "code",
   "execution_count": null,
   "id": "897b7ce6-dc9e-4587-93b2-3995624ee105",
   "metadata": {},
   "outputs": [],
   "source": []
  },
  {
   "cell_type": "markdown",
   "id": "da8e6b1a-bbac-45c9-8068-daa89f23dcf6",
   "metadata": {
    "jp-MarkdownHeadingCollapsed": true
   },
   "source": [
    "### floor()"
   ]
  },
  {
   "cell_type": "code",
   "execution_count": 127,
   "id": "30ff3a8b-545d-4a99-90b3-69915c7364ef",
   "metadata": {},
   "outputs": [
    {
     "data": {
      "text/plain": [
       "5"
      ]
     },
     "execution_count": 127,
     "metadata": {},
     "output_type": "execute_result"
    }
   ],
   "source": [
    "math.floor(5.4)"
   ]
  },
  {
   "cell_type": "code",
   "execution_count": null,
   "id": "7155c629-fedc-48c0-8b8c-9348fb5577ab",
   "metadata": {},
   "outputs": [],
   "source": []
  },
  {
   "cell_type": "code",
   "execution_count": null,
   "id": "57c6bb0c-7428-429a-b44a-710639f115f7",
   "metadata": {},
   "outputs": [],
   "source": []
  },
  {
   "cell_type": "markdown",
   "id": "9ee1669b-a005-40d7-9034-b1c1deee0a8e",
   "metadata": {
    "jp-MarkdownHeadingCollapsed": true
   },
   "source": [
    "### factorial()"
   ]
  },
  {
   "cell_type": "code",
   "execution_count": 128,
   "id": "f7071557-17b7-4646-b9d1-9f5c6a7c6820",
   "metadata": {},
   "outputs": [
    {
     "data": {
      "text/plain": [
       "24"
      ]
     },
     "execution_count": 128,
     "metadata": {},
     "output_type": "execute_result"
    }
   ],
   "source": [
    "math.factorial(4)  #4*3*2*1"
   ]
  },
  {
   "cell_type": "code",
   "execution_count": 129,
   "id": "80a8e162-af64-48f0-b03d-c290d7601d95",
   "metadata": {},
   "outputs": [
    {
     "data": {
      "text/plain": [
       "362880"
      ]
     },
     "execution_count": 129,
     "metadata": {},
     "output_type": "execute_result"
    }
   ],
   "source": [
    "math.factorial(9) #9*8*7*6*5*4*3*2*1"
   ]
  },
  {
   "cell_type": "code",
   "execution_count": null,
   "id": "f89d5f2d-6645-4bde-b0bc-271732728d0c",
   "metadata": {},
   "outputs": [],
   "source": []
  },
  {
   "cell_type": "markdown",
   "id": "d99a272e-e45f-427b-b72d-ec57ba4e2181",
   "metadata": {
    "jp-MarkdownHeadingCollapsed": true
   },
   "source": [
    "### pow()"
   ]
  },
  {
   "cell_type": "code",
   "execution_count": 136,
   "id": "ecc98d8d-61dc-471c-aa19-aa2928d588fd",
   "metadata": {},
   "outputs": [
    {
     "data": {
      "text/plain": [
       "1.0"
      ]
     },
     "execution_count": 136,
     "metadata": {},
     "output_type": "execute_result"
    }
   ],
   "source": [
    "math.pow(1,3)"
   ]
  },
  {
   "cell_type": "code",
   "execution_count": 137,
   "id": "abb05f43-54e9-4fbc-97e4-8d540c45f3e2",
   "metadata": {},
   "outputs": [
    {
     "data": {
      "text/plain": [
       "16.0"
      ]
     },
     "execution_count": 137,
     "metadata": {},
     "output_type": "execute_result"
    }
   ],
   "source": [
    "math.pow(4,2)"
   ]
  },
  {
   "cell_type": "code",
   "execution_count": null,
   "id": "a5ecd2ee-e702-458a-92ce-e8f6dbccdac2",
   "metadata": {},
   "outputs": [],
   "source": []
  },
  {
   "cell_type": "markdown",
   "id": "8a6fb6de-93f7-4617-944f-3d02321597f3",
   "metadata": {
    "jp-MarkdownHeadingCollapsed": true
   },
   "source": [
    "### sin()"
   ]
  },
  {
   "cell_type": "code",
   "execution_count": 120,
   "id": "b0f70bda-b103-4968-9362-d4fbe444bd5e",
   "metadata": {},
   "outputs": [
    {
     "data": {
      "text/plain": [
       "0.9893582466233818"
      ]
     },
     "execution_count": 120,
     "metadata": {},
     "output_type": "execute_result"
    }
   ],
   "source": [
    "math.sin(8)"
   ]
  },
  {
   "cell_type": "markdown",
   "id": "a51ef267-8249-4a2e-aef1-563d2aeb39f6",
   "metadata": {
    "jp-MarkdownHeadingCollapsed": true
   },
   "source": [
    "### cos()"
   ]
  },
  {
   "cell_type": "code",
   "execution_count": 122,
   "id": "f4c8088b-36f4-47df-b3f5-9d34268eae9d",
   "metadata": {},
   "outputs": [
    {
     "data": {
      "text/plain": [
       "-0.14550003380861354"
      ]
     },
     "execution_count": 122,
     "metadata": {},
     "output_type": "execute_result"
    }
   ],
   "source": [
    "math.cos(8)"
   ]
  },
  {
   "cell_type": "markdown",
   "id": "d483e5fc-0d19-4dd3-87ca-cd690c0ffc4f",
   "metadata": {
    "jp-MarkdownHeadingCollapsed": true
   },
   "source": [
    "### tan()"
   ]
  },
  {
   "cell_type": "code",
   "execution_count": 123,
   "id": "66604798-f088-4d3c-a12f-c4bca4a50d57",
   "metadata": {},
   "outputs": [
    {
     "data": {
      "text/plain": [
       "-6.799711455220379"
      ]
     },
     "execution_count": 123,
     "metadata": {},
     "output_type": "execute_result"
    }
   ],
   "source": [
    "math.tan(8)"
   ]
  },
  {
   "cell_type": "markdown",
   "id": "dd65f0a2-d2e9-421a-b83c-42f549444578",
   "metadata": {},
   "source": [
    "## Questions"
   ]
  },
  {
   "cell_type": "code",
   "execution_count": 144,
   "id": "0b2398d8-e34b-4194-847a-4ff0eaadcc81",
   "metadata": {},
   "outputs": [
    {
     "data": {
      "text/plain": [
       "28.274333882308138"
      ]
     },
     "execution_count": 144,
     "metadata": {},
     "output_type": "execute_result"
    }
   ],
   "source": [
    "v = math.pi*math.pow(3,2)\n",
    "v"
   ]
  },
  {
   "cell_type": "code",
   "execution_count": 146,
   "id": "317ab8fe-e6e8-4e7d-ac28-fa3163d0e64c",
   "metadata": {},
   "outputs": [
    {
     "data": {
      "text/plain": [
       "28.27"
      ]
     },
     "execution_count": 146,
     "metadata": {},
     "output_type": "execute_result"
    }
   ],
   "source": [
    "round(v,2)"
   ]
  },
  {
   "cell_type": "code",
   "execution_count": null,
   "id": "8fef8132-ae8a-4e78-98b4-16516741533c",
   "metadata": {},
   "outputs": [],
   "source": []
  }
 ],
 "metadata": {
  "kernelspec": {
   "display_name": "Python [conda env:base] *",
   "language": "python",
   "name": "conda-base-py"
  },
  "language_info": {
   "codemirror_mode": {
    "name": "ipython",
    "version": 3
   },
   "file_extension": ".py",
   "mimetype": "text/x-python",
   "name": "python",
   "nbconvert_exporter": "python",
   "pygments_lexer": "ipython3",
   "version": "3.12.7"
  }
 },
 "nbformat": 4,
 "nbformat_minor": 5
}
