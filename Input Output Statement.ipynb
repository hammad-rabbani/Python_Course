{
 "cells": [
  {
   "cell_type": "code",
   "execution_count": 4,
   "id": "76342873-28d2-4dea-b748-5f19c06def82",
   "metadata": {},
   "outputs": [
    {
     "name": "stdin",
     "output_type": "stream",
     "text": [
      "enter a number 9876543\n",
      "enter a number 123456\n"
     ]
    },
    {
     "data": {
      "text/plain": [
       "9999999"
      ]
     },
     "execution_count": 4,
     "metadata": {},
     "output_type": "execute_result"
    }
   ],
   "source": [
    "a = int(input(\"enter a number\"))\n",
    "b = int(input(\"enter a number\"))\n",
    "a+b"
   ]
  },
  {
   "cell_type": "code",
   "execution_count": 6,
   "id": "95ede7d6-fb11-407e-8c93-438c3fae3ea7",
   "metadata": {},
   "outputs": [
    {
     "name": "stdin",
     "output_type": "stream",
     "text": [
      "enter a number 8\n",
      "enter a number 4\n",
      "enter the operator /\n"
     ]
    },
    {
     "name": "stdout",
     "output_type": "stream",
     "text": [
      "2.0\n"
     ]
    }
   ],
   "source": [
    "a = int(input(\"enter a number\"))\n",
    "b = int(input(\"enter a number\"))\n",
    "c = input(\"enter the operator\")\n",
    "if c ==\"+\":\n",
    "    print(a+b)\n",
    "elif c ==\"-\":\n",
    "    print(a-b)\n",
    "elif c == \"//\":\n",
    "    print(a//b)\n",
    "elif c ==\"*\":\n",
    "    print(a*b)\n",
    "elif c == \"/\":\n",
    "    print(a/b)\n",
    "elif c == \"**\":\n",
    "    print(a**b)\n",
    "else: \n",
    "    print(\"404 Page Not Found\")"
   ]
  },
  {
   "cell_type": "code",
   "execution_count": 26,
   "id": "f2a29d80-18ec-45a1-86d1-2b73fafd1ca4",
   "metadata": {},
   "outputs": [
    {
     "name": "stdin",
     "output_type": "stream",
     "text": [
      "ENTER FLOAT: 5.0\n"
     ]
    },
    {
     "name": "stdout",
     "output_type": "stream",
     "text": [
      "ok,\n"
     ]
    }
   ],
   "source": [
    "x = eval(input(\"ENTER FLOAT:\"))\n",
    "if type(x) == float:\n",
    "    print(\"ok,\")\n",
    "else:\n",
    "    print(\"please provide valid number\")"
   ]
  },
  {
   "cell_type": "code",
   "execution_count": 31,
   "id": "c3f1971e-6796-4fa5-a91f-95fa9aa37d3a",
   "metadata": {},
   "outputs": [
    {
     "name": "stdin",
     "output_type": "stream",
     "text": [
      "enter 1st number 5\n",
      "enter 2nd number 7\n"
     ]
    },
    {
     "name": "stdout",
     "output_type": "stream",
     "text": [
      "the sum: 12\n"
     ]
    }
   ],
   "source": [
    "print(\"the sum:\",int(input(\"enter 1st number\"))+ (int(input(\"enter 2nd number\"))))"
   ]
  },
  {
   "cell_type": "code",
   "execution_count": null,
   "id": "bafb4d65-d086-4068-943e-d0d05ae5965d",
   "metadata": {},
   "outputs": [
    {
     "name": "stdin",
     "output_type": "stream",
     "text": [
      "enter employee's number 435\n"
     ]
    }
   ],
   "source": [
    "eno=int(input(\"enter employee's number\"))\n",
    "ename=str(input(\"enter emplooye's name\"))\n",
    "\n",
    "print(\"\"\"\\n Please confirm your below information\\n\n",
    "employee's no.\"\"\",eno,\"\"\"\\n employee's name\\n\"\"\",ename)\n"
   ]
  },
  {
   "cell_type": "code",
   "execution_count": null,
   "id": "9238ab81-3ec9-4d05-803f-99fc8a3fbc89",
   "metadata": {},
   "outputs": [],
   "source": [
    "esal=int(input(\"enter emplooye's salary\"))\n",
    "eaddr=str(input(\"enter emplooye's address\"))\n",
    "emar=bool(input(\"enter if the employee is married or not[True][False]\"))"
   ]
  }
 ],
 "metadata": {
  "kernelspec": {
   "display_name": "Python [conda env:base] *",
   "language": "python",
   "name": "conda-base-py"
  },
  "language_info": {
   "codemirror_mode": {
    "name": "ipython",
    "version": 3
   },
   "file_extension": ".py",
   "mimetype": "text/x-python",
   "name": "python",
   "nbconvert_exporter": "python",
   "pygments_lexer": "ipython3",
   "version": "3.12.7"
  }
 },
 "nbformat": 4,
 "nbformat_minor": 5
}
